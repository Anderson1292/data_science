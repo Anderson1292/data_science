{
  "nbformat": 4,
  "nbformat_minor": 0,
  "metadata": {
    "colab": {
      "provenance": [],
      "authorship_tag": "ABX9TyOqsfd+dzkF6P5b5ONf+8zW",
      "include_colab_link": true
    },
    "kernelspec": {
      "name": "python3",
      "display_name": "Python 3"
    },
    "language_info": {
      "name": "python"
    }
  },
  "cells": [
    {
      "cell_type": "markdown",
      "metadata": {
        "id": "view-in-github",
        "colab_type": "text"
      },
      "source": [
        "<a href=\"https://colab.research.google.com/github/Anderson1292/data_science/blob/main/notebooks/Statistics_1.ipynb\" target=\"_parent\"><img src=\"https://colab.research.google.com/assets/colab-badge.svg\" alt=\"Open In Colab\"/></a>"
      ]
    },
    {
      "cell_type": "code",
      "execution_count": 1,
      "metadata": {
        "id": "TYrPUugCoTCQ"
      },
      "outputs": [],
      "source": [
        "import numpy as np\n",
        "import pandas as pd"
      ]
    },
    {
      "cell_type": "code",
      "source": [
        "base = pd.read_csv('iris.csv')\n",
        "base"
      ],
      "metadata": {
        "colab": {
          "base_uri": "https://localhost:8080/",
          "height": 424
        },
        "id": "jgFzGtCToeP5",
        "outputId": "37305799-e37e-425c-f6e2-876d52743226"
      },
      "execution_count": 3,
      "outputs": [
        {
          "output_type": "execute_result",
          "data": {
            "text/plain": [
              "     sepal length  sepal width  petal length  petal width           class\n",
              "0             5.1          3.5           1.4          0.2     Iris-setosa\n",
              "1             4.9          3.0           1.4          0.2     Iris-setosa\n",
              "2             4.7          3.2           1.3          0.2     Iris-setosa\n",
              "3             4.6          3.1           1.5          0.2     Iris-setosa\n",
              "4             5.0          3.6           1.4          0.2     Iris-setosa\n",
              "..            ...          ...           ...          ...             ...\n",
              "145           6.7          3.0           5.2          2.3  Iris-virginica\n",
              "146           6.3          2.5           5.0          1.9  Iris-virginica\n",
              "147           6.5          3.0           5.2          2.0  Iris-virginica\n",
              "148           6.2          3.4           5.4          2.3  Iris-virginica\n",
              "149           5.9          3.0           5.1          1.8  Iris-virginica\n",
              "\n",
              "[150 rows x 5 columns]"
            ],
            "text/html": [
              "\n",
              "\n",
              "  <div id=\"df-e60983e6-b4f4-44fe-873a-05bc1b9b02b0\">\n",
              "    <div class=\"colab-df-container\">\n",
              "      <div>\n",
              "<style scoped>\n",
              "    .dataframe tbody tr th:only-of-type {\n",
              "        vertical-align: middle;\n",
              "    }\n",
              "\n",
              "    .dataframe tbody tr th {\n",
              "        vertical-align: top;\n",
              "    }\n",
              "\n",
              "    .dataframe thead th {\n",
              "        text-align: right;\n",
              "    }\n",
              "</style>\n",
              "<table border=\"1\" class=\"dataframe\">\n",
              "  <thead>\n",
              "    <tr style=\"text-align: right;\">\n",
              "      <th></th>\n",
              "      <th>sepal length</th>\n",
              "      <th>sepal width</th>\n",
              "      <th>petal length</th>\n",
              "      <th>petal width</th>\n",
              "      <th>class</th>\n",
              "    </tr>\n",
              "  </thead>\n",
              "  <tbody>\n",
              "    <tr>\n",
              "      <th>0</th>\n",
              "      <td>5.1</td>\n",
              "      <td>3.5</td>\n",
              "      <td>1.4</td>\n",
              "      <td>0.2</td>\n",
              "      <td>Iris-setosa</td>\n",
              "    </tr>\n",
              "    <tr>\n",
              "      <th>1</th>\n",
              "      <td>4.9</td>\n",
              "      <td>3.0</td>\n",
              "      <td>1.4</td>\n",
              "      <td>0.2</td>\n",
              "      <td>Iris-setosa</td>\n",
              "    </tr>\n",
              "    <tr>\n",
              "      <th>2</th>\n",
              "      <td>4.7</td>\n",
              "      <td>3.2</td>\n",
              "      <td>1.3</td>\n",
              "      <td>0.2</td>\n",
              "      <td>Iris-setosa</td>\n",
              "    </tr>\n",
              "    <tr>\n",
              "      <th>3</th>\n",
              "      <td>4.6</td>\n",
              "      <td>3.1</td>\n",
              "      <td>1.5</td>\n",
              "      <td>0.2</td>\n",
              "      <td>Iris-setosa</td>\n",
              "    </tr>\n",
              "    <tr>\n",
              "      <th>4</th>\n",
              "      <td>5.0</td>\n",
              "      <td>3.6</td>\n",
              "      <td>1.4</td>\n",
              "      <td>0.2</td>\n",
              "      <td>Iris-setosa</td>\n",
              "    </tr>\n",
              "    <tr>\n",
              "      <th>...</th>\n",
              "      <td>...</td>\n",
              "      <td>...</td>\n",
              "      <td>...</td>\n",
              "      <td>...</td>\n",
              "      <td>...</td>\n",
              "    </tr>\n",
              "    <tr>\n",
              "      <th>145</th>\n",
              "      <td>6.7</td>\n",
              "      <td>3.0</td>\n",
              "      <td>5.2</td>\n",
              "      <td>2.3</td>\n",
              "      <td>Iris-virginica</td>\n",
              "    </tr>\n",
              "    <tr>\n",
              "      <th>146</th>\n",
              "      <td>6.3</td>\n",
              "      <td>2.5</td>\n",
              "      <td>5.0</td>\n",
              "      <td>1.9</td>\n",
              "      <td>Iris-virginica</td>\n",
              "    </tr>\n",
              "    <tr>\n",
              "      <th>147</th>\n",
              "      <td>6.5</td>\n",
              "      <td>3.0</td>\n",
              "      <td>5.2</td>\n",
              "      <td>2.0</td>\n",
              "      <td>Iris-virginica</td>\n",
              "    </tr>\n",
              "    <tr>\n",
              "      <th>148</th>\n",
              "      <td>6.2</td>\n",
              "      <td>3.4</td>\n",
              "      <td>5.4</td>\n",
              "      <td>2.3</td>\n",
              "      <td>Iris-virginica</td>\n",
              "    </tr>\n",
              "    <tr>\n",
              "      <th>149</th>\n",
              "      <td>5.9</td>\n",
              "      <td>3.0</td>\n",
              "      <td>5.1</td>\n",
              "      <td>1.8</td>\n",
              "      <td>Iris-virginica</td>\n",
              "    </tr>\n",
              "  </tbody>\n",
              "</table>\n",
              "<p>150 rows × 5 columns</p>\n",
              "</div>\n",
              "      <button class=\"colab-df-convert\" onclick=\"convertToInteractive('df-e60983e6-b4f4-44fe-873a-05bc1b9b02b0')\"\n",
              "              title=\"Convert this dataframe to an interactive table.\"\n",
              "              style=\"display:none;\">\n",
              "\n",
              "  <svg xmlns=\"http://www.w3.org/2000/svg\" height=\"24px\"viewBox=\"0 0 24 24\"\n",
              "       width=\"24px\">\n",
              "    <path d=\"M0 0h24v24H0V0z\" fill=\"none\"/>\n",
              "    <path d=\"M18.56 5.44l.94 2.06.94-2.06 2.06-.94-2.06-.94-.94-2.06-.94 2.06-2.06.94zm-11 1L8.5 8.5l.94-2.06 2.06-.94-2.06-.94L8.5 2.5l-.94 2.06-2.06.94zm10 10l.94 2.06.94-2.06 2.06-.94-2.06-.94-.94-2.06-.94 2.06-2.06.94z\"/><path d=\"M17.41 7.96l-1.37-1.37c-.4-.4-.92-.59-1.43-.59-.52 0-1.04.2-1.43.59L10.3 9.45l-7.72 7.72c-.78.78-.78 2.05 0 2.83L4 21.41c.39.39.9.59 1.41.59.51 0 1.02-.2 1.41-.59l7.78-7.78 2.81-2.81c.8-.78.8-2.07 0-2.86zM5.41 20L4 18.59l7.72-7.72 1.47 1.35L5.41 20z\"/>\n",
              "  </svg>\n",
              "      </button>\n",
              "\n",
              "\n",
              "\n",
              "    <div id=\"df-fb656837-a250-4eb2-9707-39561262d1af\">\n",
              "      <button class=\"colab-df-quickchart\" onclick=\"quickchart('df-fb656837-a250-4eb2-9707-39561262d1af')\"\n",
              "              title=\"Suggest charts.\"\n",
              "              style=\"display:none;\">\n",
              "\n",
              "<svg xmlns=\"http://www.w3.org/2000/svg\" height=\"24px\"viewBox=\"0 0 24 24\"\n",
              "     width=\"24px\">\n",
              "    <g>\n",
              "        <path d=\"M19 3H5c-1.1 0-2 .9-2 2v14c0 1.1.9 2 2 2h14c1.1 0 2-.9 2-2V5c0-1.1-.9-2-2-2zM9 17H7v-7h2v7zm4 0h-2V7h2v10zm4 0h-2v-4h2v4z\"/>\n",
              "    </g>\n",
              "</svg>\n",
              "      </button>\n",
              "    </div>\n",
              "\n",
              "<style>\n",
              "  .colab-df-quickchart {\n",
              "    background-color: #E8F0FE;\n",
              "    border: none;\n",
              "    border-radius: 50%;\n",
              "    cursor: pointer;\n",
              "    display: none;\n",
              "    fill: #1967D2;\n",
              "    height: 32px;\n",
              "    padding: 0 0 0 0;\n",
              "    width: 32px;\n",
              "  }\n",
              "\n",
              "  .colab-df-quickchart:hover {\n",
              "    background-color: #E2EBFA;\n",
              "    box-shadow: 0px 1px 2px rgba(60, 64, 67, 0.3), 0px 1px 3px 1px rgba(60, 64, 67, 0.15);\n",
              "    fill: #174EA6;\n",
              "  }\n",
              "\n",
              "  [theme=dark] .colab-df-quickchart {\n",
              "    background-color: #3B4455;\n",
              "    fill: #D2E3FC;\n",
              "  }\n",
              "\n",
              "  [theme=dark] .colab-df-quickchart:hover {\n",
              "    background-color: #434B5C;\n",
              "    box-shadow: 0px 1px 3px 1px rgba(0, 0, 0, 0.15);\n",
              "    filter: drop-shadow(0px 1px 2px rgba(0, 0, 0, 0.3));\n",
              "    fill: #FFFFFF;\n",
              "  }\n",
              "</style>\n",
              "\n",
              "    <script>\n",
              "      async function quickchart(key) {\n",
              "        const containerElement = document.querySelector('#' + key);\n",
              "        const charts = await google.colab.kernel.invokeFunction(\n",
              "            'suggestCharts', [key], {});\n",
              "      }\n",
              "    </script>\n",
              "\n",
              "      <script>\n",
              "\n",
              "function displayQuickchartButton(domScope) {\n",
              "  let quickchartButtonEl =\n",
              "    domScope.querySelector('#df-fb656837-a250-4eb2-9707-39561262d1af button.colab-df-quickchart');\n",
              "  quickchartButtonEl.style.display =\n",
              "    google.colab.kernel.accessAllowed ? 'block' : 'none';\n",
              "}\n",
              "\n",
              "        displayQuickchartButton(document);\n",
              "      </script>\n",
              "      <style>\n",
              "    .colab-df-container {\n",
              "      display:flex;\n",
              "      flex-wrap:wrap;\n",
              "      gap: 12px;\n",
              "    }\n",
              "\n",
              "    .colab-df-convert {\n",
              "      background-color: #E8F0FE;\n",
              "      border: none;\n",
              "      border-radius: 50%;\n",
              "      cursor: pointer;\n",
              "      display: none;\n",
              "      fill: #1967D2;\n",
              "      height: 32px;\n",
              "      padding: 0 0 0 0;\n",
              "      width: 32px;\n",
              "    }\n",
              "\n",
              "    .colab-df-convert:hover {\n",
              "      background-color: #E2EBFA;\n",
              "      box-shadow: 0px 1px 2px rgba(60, 64, 67, 0.3), 0px 1px 3px 1px rgba(60, 64, 67, 0.15);\n",
              "      fill: #174EA6;\n",
              "    }\n",
              "\n",
              "    [theme=dark] .colab-df-convert {\n",
              "      background-color: #3B4455;\n",
              "      fill: #D2E3FC;\n",
              "    }\n",
              "\n",
              "    [theme=dark] .colab-df-convert:hover {\n",
              "      background-color: #434B5C;\n",
              "      box-shadow: 0px 1px 3px 1px rgba(0, 0, 0, 0.15);\n",
              "      filter: drop-shadow(0px 1px 2px rgba(0, 0, 0, 0.3));\n",
              "      fill: #FFFFFF;\n",
              "    }\n",
              "  </style>\n",
              "\n",
              "      <script>\n",
              "        const buttonEl =\n",
              "          document.querySelector('#df-e60983e6-b4f4-44fe-873a-05bc1b9b02b0 button.colab-df-convert');\n",
              "        buttonEl.style.display =\n",
              "          google.colab.kernel.accessAllowed ? 'block' : 'none';\n",
              "\n",
              "        async function convertToInteractive(key) {\n",
              "          const element = document.querySelector('#df-e60983e6-b4f4-44fe-873a-05bc1b9b02b0');\n",
              "          const dataTable =\n",
              "            await google.colab.kernel.invokeFunction('convertToInteractive',\n",
              "                                                     [key], {});\n",
              "          if (!dataTable) return;\n",
              "\n",
              "          const docLinkHtml = 'Like what you see? Visit the ' +\n",
              "            '<a target=\"_blank\" href=https://colab.research.google.com/notebooks/data_table.ipynb>data table notebook</a>'\n",
              "            + ' to learn more about interactive tables.';\n",
              "          element.innerHTML = '';\n",
              "          dataTable['output_type'] = 'display_data';\n",
              "          await google.colab.output.renderOutput(dataTable, element);\n",
              "          const docLink = document.createElement('div');\n",
              "          docLink.innerHTML = docLinkHtml;\n",
              "          element.appendChild(docLink);\n",
              "        }\n",
              "      </script>\n",
              "    </div>\n",
              "  </div>\n"
            ]
          },
          "metadata": {},
          "execution_count": 3
        }
      ]
    },
    {
      "cell_type": "code",
      "source": [
        "np.random.seed(2345)\n",
        "sample = np.random.choice(a=[0,1],size=150,replace=True,p=[0.7,0.3])\n",
        "\n",
        "print('Sample size: {}'.format(len(sample)))\n",
        "print('First sample size: {}'.format(len(sample[sample==1]))) #1\n",
        "print('Second sample size: {}'.format(len(sample[sample==0]))) #0"
      ],
      "metadata": {
        "colab": {
          "base_uri": "https://localhost:8080/"
        },
        "id": "-4FEwr_yrvDH",
        "outputId": "b0266372-09c1-4bed-d1e5-08b297e8608d"
      },
      "execution_count": 4,
      "outputs": [
        {
          "output_type": "stream",
          "name": "stdout",
          "text": [
            "Sample size: 150\n",
            "First sample size: 49\n",
            "Second sample size: 101\n"
          ]
        }
      ]
    },
    {
      "cell_type": "code",
      "source": [
        "sample"
      ],
      "metadata": {
        "colab": {
          "base_uri": "https://localhost:8080/"
        },
        "id": "HUIDsBwKtPLb",
        "outputId": "8da7819b-6243-4fb7-ead0-357bbe96e7e1"
      },
      "execution_count": 5,
      "outputs": [
        {
          "output_type": "execute_result",
          "data": {
            "text/plain": [
              "array([0, 0, 0, 0, 1, 0, 0, 0, 1, 0, 0, 1, 0, 1, 0, 0, 1, 0, 1, 1, 1, 0,\n",
              "       0, 1, 1, 1, 0, 1, 0, 0, 1, 0, 0, 1, 1, 0, 1, 0, 0, 0, 1, 0, 1, 0,\n",
              "       0, 0, 0, 0, 0, 0, 1, 1, 0, 0, 0, 0, 0, 0, 0, 0, 0, 1, 0, 0, 1, 0,\n",
              "       0, 1, 0, 0, 1, 0, 0, 0, 0, 1, 0, 1, 0, 0, 1, 1, 0, 0, 0, 0, 0, 0,\n",
              "       0, 0, 0, 0, 1, 0, 1, 1, 1, 1, 1, 1, 0, 0, 0, 0, 0, 0, 0, 0, 1, 0,\n",
              "       0, 0, 0, 0, 0, 0, 0, 0, 1, 0, 0, 0, 0, 0, 1, 1, 1, 0, 1, 0, 1, 1,\n",
              "       1, 0, 0, 0, 0, 0, 0, 0, 0, 1, 1, 0, 0, 1, 1, 0, 0, 1])"
            ]
          },
          "metadata": {},
          "execution_count": 5
        }
      ]
    },
    {
      "cell_type": "code",
      "source": [
        "new_sample = base.loc[sample==0]\n",
        "new_sample.shape"
      ],
      "metadata": {
        "colab": {
          "base_uri": "https://localhost:8080/"
        },
        "id": "fLtP-PZvtraq",
        "outputId": "9703b435-3e99-41d4-ee12-f1ad9e97f059"
      },
      "execution_count": 6,
      "outputs": [
        {
          "output_type": "execute_result",
          "data": {
            "text/plain": [
              "(101, 5)"
            ]
          },
          "metadata": {},
          "execution_count": 6
        }
      ]
    },
    {
      "cell_type": "markdown",
      "source": [
        "#Systematic sample"
      ],
      "metadata": {
        "id": "bp8T85zhfXcs"
      }
    },
    {
      "cell_type": "code",
      "source": [
        "#Amostra sistemática\n",
        "from math import ceil\n",
        "\n",
        "population = 150\n",
        "sample = 15\n",
        "k = ceil(population/sample)\n",
        "\n",
        "seed = np.random.randint(low=1,high=k+1,size=1)\n",
        "print(seed)"
      ],
      "metadata": {
        "colab": {
          "base_uri": "https://localhost:8080/"
        },
        "id": "OD5a5WTfwL3u",
        "outputId": "d8985fc3-1680-4c76-fed3-4e4f6dc28d69"
      },
      "execution_count": 8,
      "outputs": [
        {
          "output_type": "stream",
          "name": "stdout",
          "text": [
            "[2]\n"
          ]
        }
      ]
    },
    {
      "cell_type": "code",
      "source": [
        "accumulator = seed[0]\n",
        "raffled = []\n",
        "\n",
        "for i in range(sample):\n",
        "  raffled.append(accumulator)\n",
        "  accumulator += k\n",
        "\n",
        "print(raffled)"
      ],
      "metadata": {
        "colab": {
          "base_uri": "https://localhost:8080/"
        },
        "id": "uhM7cFu0xKVi",
        "outputId": "0020124e-dc9a-4e49-82ab-53f36152ace0"
      },
      "execution_count": 9,
      "outputs": [
        {
          "output_type": "stream",
          "name": "stdout",
          "text": [
            "[2, 12, 22, 32, 42, 52, 62, 72, 82, 92, 102, 112, 122, 132, 142]\n"
          ]
        }
      ]
    },
    {
      "cell_type": "code",
      "source": [
        "base_final = base.loc[raffled]\n",
        "base_final"
      ],
      "metadata": {
        "colab": {
          "base_uri": "https://localhost:8080/",
          "height": 520
        },
        "id": "1QH3B4N0x7Ze",
        "outputId": "d7a0569a-335b-48ca-8728-3b255ca2939e"
      },
      "execution_count": 10,
      "outputs": [
        {
          "output_type": "execute_result",
          "data": {
            "text/plain": [
              "     sepal length  sepal width  petal length  petal width            class\n",
              "2             4.7          3.2           1.3          0.2      Iris-setosa\n",
              "12            4.8          3.0           1.4          0.1      Iris-setosa\n",
              "22            4.6          3.6           1.0          0.2      Iris-setosa\n",
              "32            5.2          4.1           1.5          0.1      Iris-setosa\n",
              "42            4.4          3.2           1.3          0.2      Iris-setosa\n",
              "52            6.9          3.1           4.9          1.5  Iris-versicolor\n",
              "62            6.0          2.2           4.0          1.0  Iris-versicolor\n",
              "72            6.3          2.5           4.9          1.5  Iris-versicolor\n",
              "82            5.8          2.7           3.9          1.2  Iris-versicolor\n",
              "92            5.8          2.6           4.0          1.2  Iris-versicolor\n",
              "102           7.1          3.0           5.9          2.1   Iris-virginica\n",
              "112           6.8          3.0           5.5          2.1   Iris-virginica\n",
              "122           7.7          2.8           6.7          2.0   Iris-virginica\n",
              "132           6.4          2.8           5.6          2.2   Iris-virginica\n",
              "142           5.8          2.7           5.1          1.9   Iris-virginica"
            ],
            "text/html": [
              "\n",
              "\n",
              "  <div id=\"df-38deef2a-10f0-4850-8032-166e992395a9\">\n",
              "    <div class=\"colab-df-container\">\n",
              "      <div>\n",
              "<style scoped>\n",
              "    .dataframe tbody tr th:only-of-type {\n",
              "        vertical-align: middle;\n",
              "    }\n",
              "\n",
              "    .dataframe tbody tr th {\n",
              "        vertical-align: top;\n",
              "    }\n",
              "\n",
              "    .dataframe thead th {\n",
              "        text-align: right;\n",
              "    }\n",
              "</style>\n",
              "<table border=\"1\" class=\"dataframe\">\n",
              "  <thead>\n",
              "    <tr style=\"text-align: right;\">\n",
              "      <th></th>\n",
              "      <th>sepal length</th>\n",
              "      <th>sepal width</th>\n",
              "      <th>petal length</th>\n",
              "      <th>petal width</th>\n",
              "      <th>class</th>\n",
              "    </tr>\n",
              "  </thead>\n",
              "  <tbody>\n",
              "    <tr>\n",
              "      <th>2</th>\n",
              "      <td>4.7</td>\n",
              "      <td>3.2</td>\n",
              "      <td>1.3</td>\n",
              "      <td>0.2</td>\n",
              "      <td>Iris-setosa</td>\n",
              "    </tr>\n",
              "    <tr>\n",
              "      <th>12</th>\n",
              "      <td>4.8</td>\n",
              "      <td>3.0</td>\n",
              "      <td>1.4</td>\n",
              "      <td>0.1</td>\n",
              "      <td>Iris-setosa</td>\n",
              "    </tr>\n",
              "    <tr>\n",
              "      <th>22</th>\n",
              "      <td>4.6</td>\n",
              "      <td>3.6</td>\n",
              "      <td>1.0</td>\n",
              "      <td>0.2</td>\n",
              "      <td>Iris-setosa</td>\n",
              "    </tr>\n",
              "    <tr>\n",
              "      <th>32</th>\n",
              "      <td>5.2</td>\n",
              "      <td>4.1</td>\n",
              "      <td>1.5</td>\n",
              "      <td>0.1</td>\n",
              "      <td>Iris-setosa</td>\n",
              "    </tr>\n",
              "    <tr>\n",
              "      <th>42</th>\n",
              "      <td>4.4</td>\n",
              "      <td>3.2</td>\n",
              "      <td>1.3</td>\n",
              "      <td>0.2</td>\n",
              "      <td>Iris-setosa</td>\n",
              "    </tr>\n",
              "    <tr>\n",
              "      <th>52</th>\n",
              "      <td>6.9</td>\n",
              "      <td>3.1</td>\n",
              "      <td>4.9</td>\n",
              "      <td>1.5</td>\n",
              "      <td>Iris-versicolor</td>\n",
              "    </tr>\n",
              "    <tr>\n",
              "      <th>62</th>\n",
              "      <td>6.0</td>\n",
              "      <td>2.2</td>\n",
              "      <td>4.0</td>\n",
              "      <td>1.0</td>\n",
              "      <td>Iris-versicolor</td>\n",
              "    </tr>\n",
              "    <tr>\n",
              "      <th>72</th>\n",
              "      <td>6.3</td>\n",
              "      <td>2.5</td>\n",
              "      <td>4.9</td>\n",
              "      <td>1.5</td>\n",
              "      <td>Iris-versicolor</td>\n",
              "    </tr>\n",
              "    <tr>\n",
              "      <th>82</th>\n",
              "      <td>5.8</td>\n",
              "      <td>2.7</td>\n",
              "      <td>3.9</td>\n",
              "      <td>1.2</td>\n",
              "      <td>Iris-versicolor</td>\n",
              "    </tr>\n",
              "    <tr>\n",
              "      <th>92</th>\n",
              "      <td>5.8</td>\n",
              "      <td>2.6</td>\n",
              "      <td>4.0</td>\n",
              "      <td>1.2</td>\n",
              "      <td>Iris-versicolor</td>\n",
              "    </tr>\n",
              "    <tr>\n",
              "      <th>102</th>\n",
              "      <td>7.1</td>\n",
              "      <td>3.0</td>\n",
              "      <td>5.9</td>\n",
              "      <td>2.1</td>\n",
              "      <td>Iris-virginica</td>\n",
              "    </tr>\n",
              "    <tr>\n",
              "      <th>112</th>\n",
              "      <td>6.8</td>\n",
              "      <td>3.0</td>\n",
              "      <td>5.5</td>\n",
              "      <td>2.1</td>\n",
              "      <td>Iris-virginica</td>\n",
              "    </tr>\n",
              "    <tr>\n",
              "      <th>122</th>\n",
              "      <td>7.7</td>\n",
              "      <td>2.8</td>\n",
              "      <td>6.7</td>\n",
              "      <td>2.0</td>\n",
              "      <td>Iris-virginica</td>\n",
              "    </tr>\n",
              "    <tr>\n",
              "      <th>132</th>\n",
              "      <td>6.4</td>\n",
              "      <td>2.8</td>\n",
              "      <td>5.6</td>\n",
              "      <td>2.2</td>\n",
              "      <td>Iris-virginica</td>\n",
              "    </tr>\n",
              "    <tr>\n",
              "      <th>142</th>\n",
              "      <td>5.8</td>\n",
              "      <td>2.7</td>\n",
              "      <td>5.1</td>\n",
              "      <td>1.9</td>\n",
              "      <td>Iris-virginica</td>\n",
              "    </tr>\n",
              "  </tbody>\n",
              "</table>\n",
              "</div>\n",
              "      <button class=\"colab-df-convert\" onclick=\"convertToInteractive('df-38deef2a-10f0-4850-8032-166e992395a9')\"\n",
              "              title=\"Convert this dataframe to an interactive table.\"\n",
              "              style=\"display:none;\">\n",
              "\n",
              "  <svg xmlns=\"http://www.w3.org/2000/svg\" height=\"24px\"viewBox=\"0 0 24 24\"\n",
              "       width=\"24px\">\n",
              "    <path d=\"M0 0h24v24H0V0z\" fill=\"none\"/>\n",
              "    <path d=\"M18.56 5.44l.94 2.06.94-2.06 2.06-.94-2.06-.94-.94-2.06-.94 2.06-2.06.94zm-11 1L8.5 8.5l.94-2.06 2.06-.94-2.06-.94L8.5 2.5l-.94 2.06-2.06.94zm10 10l.94 2.06.94-2.06 2.06-.94-2.06-.94-.94-2.06-.94 2.06-2.06.94z\"/><path d=\"M17.41 7.96l-1.37-1.37c-.4-.4-.92-.59-1.43-.59-.52 0-1.04.2-1.43.59L10.3 9.45l-7.72 7.72c-.78.78-.78 2.05 0 2.83L4 21.41c.39.39.9.59 1.41.59.51 0 1.02-.2 1.41-.59l7.78-7.78 2.81-2.81c.8-.78.8-2.07 0-2.86zM5.41 20L4 18.59l7.72-7.72 1.47 1.35L5.41 20z\"/>\n",
              "  </svg>\n",
              "      </button>\n",
              "\n",
              "\n",
              "\n",
              "    <div id=\"df-37c2f143-93bc-410a-ac38-a0fe18908bbc\">\n",
              "      <button class=\"colab-df-quickchart\" onclick=\"quickchart('df-37c2f143-93bc-410a-ac38-a0fe18908bbc')\"\n",
              "              title=\"Suggest charts.\"\n",
              "              style=\"display:none;\">\n",
              "\n",
              "<svg xmlns=\"http://www.w3.org/2000/svg\" height=\"24px\"viewBox=\"0 0 24 24\"\n",
              "     width=\"24px\">\n",
              "    <g>\n",
              "        <path d=\"M19 3H5c-1.1 0-2 .9-2 2v14c0 1.1.9 2 2 2h14c1.1 0 2-.9 2-2V5c0-1.1-.9-2-2-2zM9 17H7v-7h2v7zm4 0h-2V7h2v10zm4 0h-2v-4h2v4z\"/>\n",
              "    </g>\n",
              "</svg>\n",
              "      </button>\n",
              "    </div>\n",
              "\n",
              "<style>\n",
              "  .colab-df-quickchart {\n",
              "    background-color: #E8F0FE;\n",
              "    border: none;\n",
              "    border-radius: 50%;\n",
              "    cursor: pointer;\n",
              "    display: none;\n",
              "    fill: #1967D2;\n",
              "    height: 32px;\n",
              "    padding: 0 0 0 0;\n",
              "    width: 32px;\n",
              "  }\n",
              "\n",
              "  .colab-df-quickchart:hover {\n",
              "    background-color: #E2EBFA;\n",
              "    box-shadow: 0px 1px 2px rgba(60, 64, 67, 0.3), 0px 1px 3px 1px rgba(60, 64, 67, 0.15);\n",
              "    fill: #174EA6;\n",
              "  }\n",
              "\n",
              "  [theme=dark] .colab-df-quickchart {\n",
              "    background-color: #3B4455;\n",
              "    fill: #D2E3FC;\n",
              "  }\n",
              "\n",
              "  [theme=dark] .colab-df-quickchart:hover {\n",
              "    background-color: #434B5C;\n",
              "    box-shadow: 0px 1px 3px 1px rgba(0, 0, 0, 0.15);\n",
              "    filter: drop-shadow(0px 1px 2px rgba(0, 0, 0, 0.3));\n",
              "    fill: #FFFFFF;\n",
              "  }\n",
              "</style>\n",
              "\n",
              "    <script>\n",
              "      async function quickchart(key) {\n",
              "        const containerElement = document.querySelector('#' + key);\n",
              "        const charts = await google.colab.kernel.invokeFunction(\n",
              "            'suggestCharts', [key], {});\n",
              "      }\n",
              "    </script>\n",
              "\n",
              "      <script>\n",
              "\n",
              "function displayQuickchartButton(domScope) {\n",
              "  let quickchartButtonEl =\n",
              "    domScope.querySelector('#df-37c2f143-93bc-410a-ac38-a0fe18908bbc button.colab-df-quickchart');\n",
              "  quickchartButtonEl.style.display =\n",
              "    google.colab.kernel.accessAllowed ? 'block' : 'none';\n",
              "}\n",
              "\n",
              "        displayQuickchartButton(document);\n",
              "      </script>\n",
              "      <style>\n",
              "    .colab-df-container {\n",
              "      display:flex;\n",
              "      flex-wrap:wrap;\n",
              "      gap: 12px;\n",
              "    }\n",
              "\n",
              "    .colab-df-convert {\n",
              "      background-color: #E8F0FE;\n",
              "      border: none;\n",
              "      border-radius: 50%;\n",
              "      cursor: pointer;\n",
              "      display: none;\n",
              "      fill: #1967D2;\n",
              "      height: 32px;\n",
              "      padding: 0 0 0 0;\n",
              "      width: 32px;\n",
              "    }\n",
              "\n",
              "    .colab-df-convert:hover {\n",
              "      background-color: #E2EBFA;\n",
              "      box-shadow: 0px 1px 2px rgba(60, 64, 67, 0.3), 0px 1px 3px 1px rgba(60, 64, 67, 0.15);\n",
              "      fill: #174EA6;\n",
              "    }\n",
              "\n",
              "    [theme=dark] .colab-df-convert {\n",
              "      background-color: #3B4455;\n",
              "      fill: #D2E3FC;\n",
              "    }\n",
              "\n",
              "    [theme=dark] .colab-df-convert:hover {\n",
              "      background-color: #434B5C;\n",
              "      box-shadow: 0px 1px 3px 1px rgba(0, 0, 0, 0.15);\n",
              "      filter: drop-shadow(0px 1px 2px rgba(0, 0, 0, 0.3));\n",
              "      fill: #FFFFFF;\n",
              "    }\n",
              "  </style>\n",
              "\n",
              "      <script>\n",
              "        const buttonEl =\n",
              "          document.querySelector('#df-38deef2a-10f0-4850-8032-166e992395a9 button.colab-df-convert');\n",
              "        buttonEl.style.display =\n",
              "          google.colab.kernel.accessAllowed ? 'block' : 'none';\n",
              "\n",
              "        async function convertToInteractive(key) {\n",
              "          const element = document.querySelector('#df-38deef2a-10f0-4850-8032-166e992395a9');\n",
              "          const dataTable =\n",
              "            await google.colab.kernel.invokeFunction('convertToInteractive',\n",
              "                                                     [key], {});\n",
              "          if (!dataTable) return;\n",
              "\n",
              "          const docLinkHtml = 'Like what you see? Visit the ' +\n",
              "            '<a target=\"_blank\" href=https://colab.research.google.com/notebooks/data_table.ipynb>data table notebook</a>'\n",
              "            + ' to learn more about interactive tables.';\n",
              "          element.innerHTML = '';\n",
              "          dataTable['output_type'] = 'display_data';\n",
              "          await google.colab.output.renderOutput(dataTable, element);\n",
              "          const docLink = document.createElement('div');\n",
              "          docLink.innerHTML = docLinkHtml;\n",
              "          element.appendChild(docLink);\n",
              "        }\n",
              "      </script>\n",
              "    </div>\n",
              "  </div>\n"
            ]
          },
          "metadata": {},
          "execution_count": 10
        }
      ]
    },
    {
      "cell_type": "code",
      "source": [
        "base['class'].value_counts()"
      ],
      "metadata": {
        "colab": {
          "base_uri": "https://localhost:8080/"
        },
        "id": "5aWX_JBqcVy6",
        "outputId": "fd7a6834-9949-4678-e1f5-9c92a73ad521"
      },
      "execution_count": 12,
      "outputs": [
        {
          "output_type": "execute_result",
          "data": {
            "text/plain": [
              "Iris-setosa        50\n",
              "Iris-versicolor    50\n",
              "Iris-virginica     50\n",
              "Name: class, dtype: int64"
            ]
          },
          "metadata": {},
          "execution_count": 12
        }
      ]
    },
    {
      "cell_type": "code",
      "source": [
        "base"
      ],
      "metadata": {
        "colab": {
          "base_uri": "https://localhost:8080/",
          "height": 424
        },
        "id": "F98_5tTic870",
        "outputId": "d27ac0b8-dd66-4b7e-89a0-3da6a1054a3b"
      },
      "execution_count": 14,
      "outputs": [
        {
          "output_type": "execute_result",
          "data": {
            "text/plain": [
              "     sepal length  sepal width  petal length  petal width           class\n",
              "0             5.1          3.5           1.4          0.2     Iris-setosa\n",
              "1             4.9          3.0           1.4          0.2     Iris-setosa\n",
              "2             4.7          3.2           1.3          0.2     Iris-setosa\n",
              "3             4.6          3.1           1.5          0.2     Iris-setosa\n",
              "4             5.0          3.6           1.4          0.2     Iris-setosa\n",
              "..            ...          ...           ...          ...             ...\n",
              "145           6.7          3.0           5.2          2.3  Iris-virginica\n",
              "146           6.3          2.5           5.0          1.9  Iris-virginica\n",
              "147           6.5          3.0           5.2          2.0  Iris-virginica\n",
              "148           6.2          3.4           5.4          2.3  Iris-virginica\n",
              "149           5.9          3.0           5.1          1.8  Iris-virginica\n",
              "\n",
              "[150 rows x 5 columns]"
            ],
            "text/html": [
              "\n",
              "\n",
              "  <div id=\"df-5bc19694-f51d-4676-8425-d4ea5a95a25c\">\n",
              "    <div class=\"colab-df-container\">\n",
              "      <div>\n",
              "<style scoped>\n",
              "    .dataframe tbody tr th:only-of-type {\n",
              "        vertical-align: middle;\n",
              "    }\n",
              "\n",
              "    .dataframe tbody tr th {\n",
              "        vertical-align: top;\n",
              "    }\n",
              "\n",
              "    .dataframe thead th {\n",
              "        text-align: right;\n",
              "    }\n",
              "</style>\n",
              "<table border=\"1\" class=\"dataframe\">\n",
              "  <thead>\n",
              "    <tr style=\"text-align: right;\">\n",
              "      <th></th>\n",
              "      <th>sepal length</th>\n",
              "      <th>sepal width</th>\n",
              "      <th>petal length</th>\n",
              "      <th>petal width</th>\n",
              "      <th>class</th>\n",
              "    </tr>\n",
              "  </thead>\n",
              "  <tbody>\n",
              "    <tr>\n",
              "      <th>0</th>\n",
              "      <td>5.1</td>\n",
              "      <td>3.5</td>\n",
              "      <td>1.4</td>\n",
              "      <td>0.2</td>\n",
              "      <td>Iris-setosa</td>\n",
              "    </tr>\n",
              "    <tr>\n",
              "      <th>1</th>\n",
              "      <td>4.9</td>\n",
              "      <td>3.0</td>\n",
              "      <td>1.4</td>\n",
              "      <td>0.2</td>\n",
              "      <td>Iris-setosa</td>\n",
              "    </tr>\n",
              "    <tr>\n",
              "      <th>2</th>\n",
              "      <td>4.7</td>\n",
              "      <td>3.2</td>\n",
              "      <td>1.3</td>\n",
              "      <td>0.2</td>\n",
              "      <td>Iris-setosa</td>\n",
              "    </tr>\n",
              "    <tr>\n",
              "      <th>3</th>\n",
              "      <td>4.6</td>\n",
              "      <td>3.1</td>\n",
              "      <td>1.5</td>\n",
              "      <td>0.2</td>\n",
              "      <td>Iris-setosa</td>\n",
              "    </tr>\n",
              "    <tr>\n",
              "      <th>4</th>\n",
              "      <td>5.0</td>\n",
              "      <td>3.6</td>\n",
              "      <td>1.4</td>\n",
              "      <td>0.2</td>\n",
              "      <td>Iris-setosa</td>\n",
              "    </tr>\n",
              "    <tr>\n",
              "      <th>...</th>\n",
              "      <td>...</td>\n",
              "      <td>...</td>\n",
              "      <td>...</td>\n",
              "      <td>...</td>\n",
              "      <td>...</td>\n",
              "    </tr>\n",
              "    <tr>\n",
              "      <th>145</th>\n",
              "      <td>6.7</td>\n",
              "      <td>3.0</td>\n",
              "      <td>5.2</td>\n",
              "      <td>2.3</td>\n",
              "      <td>Iris-virginica</td>\n",
              "    </tr>\n",
              "    <tr>\n",
              "      <th>146</th>\n",
              "      <td>6.3</td>\n",
              "      <td>2.5</td>\n",
              "      <td>5.0</td>\n",
              "      <td>1.9</td>\n",
              "      <td>Iris-virginica</td>\n",
              "    </tr>\n",
              "    <tr>\n",
              "      <th>147</th>\n",
              "      <td>6.5</td>\n",
              "      <td>3.0</td>\n",
              "      <td>5.2</td>\n",
              "      <td>2.0</td>\n",
              "      <td>Iris-virginica</td>\n",
              "    </tr>\n",
              "    <tr>\n",
              "      <th>148</th>\n",
              "      <td>6.2</td>\n",
              "      <td>3.4</td>\n",
              "      <td>5.4</td>\n",
              "      <td>2.3</td>\n",
              "      <td>Iris-virginica</td>\n",
              "    </tr>\n",
              "    <tr>\n",
              "      <th>149</th>\n",
              "      <td>5.9</td>\n",
              "      <td>3.0</td>\n",
              "      <td>5.1</td>\n",
              "      <td>1.8</td>\n",
              "      <td>Iris-virginica</td>\n",
              "    </tr>\n",
              "  </tbody>\n",
              "</table>\n",
              "<p>150 rows × 5 columns</p>\n",
              "</div>\n",
              "      <button class=\"colab-df-convert\" onclick=\"convertToInteractive('df-5bc19694-f51d-4676-8425-d4ea5a95a25c')\"\n",
              "              title=\"Convert this dataframe to an interactive table.\"\n",
              "              style=\"display:none;\">\n",
              "\n",
              "  <svg xmlns=\"http://www.w3.org/2000/svg\" height=\"24px\"viewBox=\"0 0 24 24\"\n",
              "       width=\"24px\">\n",
              "    <path d=\"M0 0h24v24H0V0z\" fill=\"none\"/>\n",
              "    <path d=\"M18.56 5.44l.94 2.06.94-2.06 2.06-.94-2.06-.94-.94-2.06-.94 2.06-2.06.94zm-11 1L8.5 8.5l.94-2.06 2.06-.94-2.06-.94L8.5 2.5l-.94 2.06-2.06.94zm10 10l.94 2.06.94-2.06 2.06-.94-2.06-.94-.94-2.06-.94 2.06-2.06.94z\"/><path d=\"M17.41 7.96l-1.37-1.37c-.4-.4-.92-.59-1.43-.59-.52 0-1.04.2-1.43.59L10.3 9.45l-7.72 7.72c-.78.78-.78 2.05 0 2.83L4 21.41c.39.39.9.59 1.41.59.51 0 1.02-.2 1.41-.59l7.78-7.78 2.81-2.81c.8-.78.8-2.07 0-2.86zM5.41 20L4 18.59l7.72-7.72 1.47 1.35L5.41 20z\"/>\n",
              "  </svg>\n",
              "      </button>\n",
              "\n",
              "\n",
              "\n",
              "    <div id=\"df-44dcf782-99fe-471f-a4c2-354f45987ca5\">\n",
              "      <button class=\"colab-df-quickchart\" onclick=\"quickchart('df-44dcf782-99fe-471f-a4c2-354f45987ca5')\"\n",
              "              title=\"Suggest charts.\"\n",
              "              style=\"display:none;\">\n",
              "\n",
              "<svg xmlns=\"http://www.w3.org/2000/svg\" height=\"24px\"viewBox=\"0 0 24 24\"\n",
              "     width=\"24px\">\n",
              "    <g>\n",
              "        <path d=\"M19 3H5c-1.1 0-2 .9-2 2v14c0 1.1.9 2 2 2h14c1.1 0 2-.9 2-2V5c0-1.1-.9-2-2-2zM9 17H7v-7h2v7zm4 0h-2V7h2v10zm4 0h-2v-4h2v4z\"/>\n",
              "    </g>\n",
              "</svg>\n",
              "      </button>\n",
              "    </div>\n",
              "\n",
              "<style>\n",
              "  .colab-df-quickchart {\n",
              "    background-color: #E8F0FE;\n",
              "    border: none;\n",
              "    border-radius: 50%;\n",
              "    cursor: pointer;\n",
              "    display: none;\n",
              "    fill: #1967D2;\n",
              "    height: 32px;\n",
              "    padding: 0 0 0 0;\n",
              "    width: 32px;\n",
              "  }\n",
              "\n",
              "  .colab-df-quickchart:hover {\n",
              "    background-color: #E2EBFA;\n",
              "    box-shadow: 0px 1px 2px rgba(60, 64, 67, 0.3), 0px 1px 3px 1px rgba(60, 64, 67, 0.15);\n",
              "    fill: #174EA6;\n",
              "  }\n",
              "\n",
              "  [theme=dark] .colab-df-quickchart {\n",
              "    background-color: #3B4455;\n",
              "    fill: #D2E3FC;\n",
              "  }\n",
              "\n",
              "  [theme=dark] .colab-df-quickchart:hover {\n",
              "    background-color: #434B5C;\n",
              "    box-shadow: 0px 1px 3px 1px rgba(0, 0, 0, 0.15);\n",
              "    filter: drop-shadow(0px 1px 2px rgba(0, 0, 0, 0.3));\n",
              "    fill: #FFFFFF;\n",
              "  }\n",
              "</style>\n",
              "\n",
              "    <script>\n",
              "      async function quickchart(key) {\n",
              "        const containerElement = document.querySelector('#' + key);\n",
              "        const charts = await google.colab.kernel.invokeFunction(\n",
              "            'suggestCharts', [key], {});\n",
              "      }\n",
              "    </script>\n",
              "\n",
              "      <script>\n",
              "\n",
              "function displayQuickchartButton(domScope) {\n",
              "  let quickchartButtonEl =\n",
              "    domScope.querySelector('#df-44dcf782-99fe-471f-a4c2-354f45987ca5 button.colab-df-quickchart');\n",
              "  quickchartButtonEl.style.display =\n",
              "    google.colab.kernel.accessAllowed ? 'block' : 'none';\n",
              "}\n",
              "\n",
              "        displayQuickchartButton(document);\n",
              "      </script>\n",
              "      <style>\n",
              "    .colab-df-container {\n",
              "      display:flex;\n",
              "      flex-wrap:wrap;\n",
              "      gap: 12px;\n",
              "    }\n",
              "\n",
              "    .colab-df-convert {\n",
              "      background-color: #E8F0FE;\n",
              "      border: none;\n",
              "      border-radius: 50%;\n",
              "      cursor: pointer;\n",
              "      display: none;\n",
              "      fill: #1967D2;\n",
              "      height: 32px;\n",
              "      padding: 0 0 0 0;\n",
              "      width: 32px;\n",
              "    }\n",
              "\n",
              "    .colab-df-convert:hover {\n",
              "      background-color: #E2EBFA;\n",
              "      box-shadow: 0px 1px 2px rgba(60, 64, 67, 0.3), 0px 1px 3px 1px rgba(60, 64, 67, 0.15);\n",
              "      fill: #174EA6;\n",
              "    }\n",
              "\n",
              "    [theme=dark] .colab-df-convert {\n",
              "      background-color: #3B4455;\n",
              "      fill: #D2E3FC;\n",
              "    }\n",
              "\n",
              "    [theme=dark] .colab-df-convert:hover {\n",
              "      background-color: #434B5C;\n",
              "      box-shadow: 0px 1px 3px 1px rgba(0, 0, 0, 0.15);\n",
              "      filter: drop-shadow(0px 1px 2px rgba(0, 0, 0, 0.3));\n",
              "      fill: #FFFFFF;\n",
              "    }\n",
              "  </style>\n",
              "\n",
              "      <script>\n",
              "        const buttonEl =\n",
              "          document.querySelector('#df-5bc19694-f51d-4676-8425-d4ea5a95a25c button.colab-df-convert');\n",
              "        buttonEl.style.display =\n",
              "          google.colab.kernel.accessAllowed ? 'block' : 'none';\n",
              "\n",
              "        async function convertToInteractive(key) {\n",
              "          const element = document.querySelector('#df-5bc19694-f51d-4676-8425-d4ea5a95a25c');\n",
              "          const dataTable =\n",
              "            await google.colab.kernel.invokeFunction('convertToInteractive',\n",
              "                                                     [key], {});\n",
              "          if (!dataTable) return;\n",
              "\n",
              "          const docLinkHtml = 'Like what you see? Visit the ' +\n",
              "            '<a target=\"_blank\" href=https://colab.research.google.com/notebooks/data_table.ipynb>data table notebook</a>'\n",
              "            + ' to learn more about interactive tables.';\n",
              "          element.innerHTML = '';\n",
              "          dataTable['output_type'] = 'display_data';\n",
              "          await google.colab.output.renderOutput(dataTable, element);\n",
              "          const docLink = document.createElement('div');\n",
              "          docLink.innerHTML = docLinkHtml;\n",
              "          element.appendChild(docLink);\n",
              "        }\n",
              "      </script>\n",
              "    </div>\n",
              "  </div>\n"
            ]
          },
          "metadata": {},
          "execution_count": 14
        }
      ]
    },
    {
      "cell_type": "markdown",
      "source": [
        "#Stratified statistics"
      ],
      "metadata": {
        "id": "o7s8NeQGfCG-"
      }
    },
    {
      "cell_type": "code",
      "source": [
        "#Estatistica estratificada\n",
        "\n",
        "# base.iloc[:,0:4] -> only search for the previous attributes, that is, the data on\n",
        "# the petal and setal of the plants\n",
        "\n",
        "# base.iloc[:,4] -> only look for the class, wich is the plant species(setosa,\n",
        "# virginica or versiclor)\n",
        "from sklearn.model_selection import train_test_split\n",
        "\n",
        "X,_,y,_ = train_test_split(base.iloc[:,0:4], base.iloc[:,4],\n",
        "                           test_size=0.5,stratify=base.iloc[:,4])\n",
        "y.value_counts()"
      ],
      "metadata": {
        "colab": {
          "base_uri": "https://localhost:8080/"
        },
        "id": "dj65ASOzZ6kK",
        "outputId": "10076111-d2ed-49ef-e674-26cd7b5ab471"
      },
      "execution_count": 16,
      "outputs": [
        {
          "output_type": "execute_result",
          "data": {
            "text/plain": [
              "Iris-setosa        25\n",
              "Iris-versicolor    25\n",
              "Iris-virginica     25\n",
              "Name: class, dtype: int64"
            ]
          },
          "metadata": {},
          "execution_count": 16
        }
      ]
    },
    {
      "cell_type": "code",
      "source": [
        "infert = pd.read_csv('infert.csv')\n",
        "infert"
      ],
      "metadata": {
        "colab": {
          "base_uri": "https://localhost:8080/",
          "height": 424
        },
        "id": "kOIfB-ftdOuk",
        "outputId": "350960fd-bcc0-4c8a-bbb2-7fdbfd025c80"
      },
      "execution_count": 17,
      "outputs": [
        {
          "output_type": "execute_result",
          "data": {
            "text/plain": [
              "     Unnamed: 0 education  age  parity  induced  case  spontaneous  stratum  \\\n",
              "0             1    0-5yrs   26       6        1     1            2        1   \n",
              "1             2    0-5yrs   42       1        1     1            0        2   \n",
              "2             3    0-5yrs   39       6        2     1            0        3   \n",
              "3             4    0-5yrs   34       4        2     1            0        4   \n",
              "4             5   6-11yrs   35       3        1     1            1        5   \n",
              "..          ...       ...  ...     ...      ...   ...          ...      ...   \n",
              "243         244   12+ yrs   31       1        0     0            1       79   \n",
              "244         245   12+ yrs   34       1        0     0            0       80   \n",
              "245         246   12+ yrs   35       2        2     0            0       81   \n",
              "246         247   12+ yrs   29       1        0     0            1       82   \n",
              "247         248   12+ yrs   23       1        0     0            1       83   \n",
              "\n",
              "     pooled.stratum  \n",
              "0                 3  \n",
              "1                 1  \n",
              "2                 4  \n",
              "3                 2  \n",
              "4                32  \n",
              "..              ...  \n",
              "243              45  \n",
              "244              47  \n",
              "245              54  \n",
              "246              43  \n",
              "247              40  \n",
              "\n",
              "[248 rows x 9 columns]"
            ],
            "text/html": [
              "\n",
              "\n",
              "  <div id=\"df-8c6c5203-1949-4f8f-821f-1afb7aa33627\">\n",
              "    <div class=\"colab-df-container\">\n",
              "      <div>\n",
              "<style scoped>\n",
              "    .dataframe tbody tr th:only-of-type {\n",
              "        vertical-align: middle;\n",
              "    }\n",
              "\n",
              "    .dataframe tbody tr th {\n",
              "        vertical-align: top;\n",
              "    }\n",
              "\n",
              "    .dataframe thead th {\n",
              "        text-align: right;\n",
              "    }\n",
              "</style>\n",
              "<table border=\"1\" class=\"dataframe\">\n",
              "  <thead>\n",
              "    <tr style=\"text-align: right;\">\n",
              "      <th></th>\n",
              "      <th>Unnamed: 0</th>\n",
              "      <th>education</th>\n",
              "      <th>age</th>\n",
              "      <th>parity</th>\n",
              "      <th>induced</th>\n",
              "      <th>case</th>\n",
              "      <th>spontaneous</th>\n",
              "      <th>stratum</th>\n",
              "      <th>pooled.stratum</th>\n",
              "    </tr>\n",
              "  </thead>\n",
              "  <tbody>\n",
              "    <tr>\n",
              "      <th>0</th>\n",
              "      <td>1</td>\n",
              "      <td>0-5yrs</td>\n",
              "      <td>26</td>\n",
              "      <td>6</td>\n",
              "      <td>1</td>\n",
              "      <td>1</td>\n",
              "      <td>2</td>\n",
              "      <td>1</td>\n",
              "      <td>3</td>\n",
              "    </tr>\n",
              "    <tr>\n",
              "      <th>1</th>\n",
              "      <td>2</td>\n",
              "      <td>0-5yrs</td>\n",
              "      <td>42</td>\n",
              "      <td>1</td>\n",
              "      <td>1</td>\n",
              "      <td>1</td>\n",
              "      <td>0</td>\n",
              "      <td>2</td>\n",
              "      <td>1</td>\n",
              "    </tr>\n",
              "    <tr>\n",
              "      <th>2</th>\n",
              "      <td>3</td>\n",
              "      <td>0-5yrs</td>\n",
              "      <td>39</td>\n",
              "      <td>6</td>\n",
              "      <td>2</td>\n",
              "      <td>1</td>\n",
              "      <td>0</td>\n",
              "      <td>3</td>\n",
              "      <td>4</td>\n",
              "    </tr>\n",
              "    <tr>\n",
              "      <th>3</th>\n",
              "      <td>4</td>\n",
              "      <td>0-5yrs</td>\n",
              "      <td>34</td>\n",
              "      <td>4</td>\n",
              "      <td>2</td>\n",
              "      <td>1</td>\n",
              "      <td>0</td>\n",
              "      <td>4</td>\n",
              "      <td>2</td>\n",
              "    </tr>\n",
              "    <tr>\n",
              "      <th>4</th>\n",
              "      <td>5</td>\n",
              "      <td>6-11yrs</td>\n",
              "      <td>35</td>\n",
              "      <td>3</td>\n",
              "      <td>1</td>\n",
              "      <td>1</td>\n",
              "      <td>1</td>\n",
              "      <td>5</td>\n",
              "      <td>32</td>\n",
              "    </tr>\n",
              "    <tr>\n",
              "      <th>...</th>\n",
              "      <td>...</td>\n",
              "      <td>...</td>\n",
              "      <td>...</td>\n",
              "      <td>...</td>\n",
              "      <td>...</td>\n",
              "      <td>...</td>\n",
              "      <td>...</td>\n",
              "      <td>...</td>\n",
              "      <td>...</td>\n",
              "    </tr>\n",
              "    <tr>\n",
              "      <th>243</th>\n",
              "      <td>244</td>\n",
              "      <td>12+ yrs</td>\n",
              "      <td>31</td>\n",
              "      <td>1</td>\n",
              "      <td>0</td>\n",
              "      <td>0</td>\n",
              "      <td>1</td>\n",
              "      <td>79</td>\n",
              "      <td>45</td>\n",
              "    </tr>\n",
              "    <tr>\n",
              "      <th>244</th>\n",
              "      <td>245</td>\n",
              "      <td>12+ yrs</td>\n",
              "      <td>34</td>\n",
              "      <td>1</td>\n",
              "      <td>0</td>\n",
              "      <td>0</td>\n",
              "      <td>0</td>\n",
              "      <td>80</td>\n",
              "      <td>47</td>\n",
              "    </tr>\n",
              "    <tr>\n",
              "      <th>245</th>\n",
              "      <td>246</td>\n",
              "      <td>12+ yrs</td>\n",
              "      <td>35</td>\n",
              "      <td>2</td>\n",
              "      <td>2</td>\n",
              "      <td>0</td>\n",
              "      <td>0</td>\n",
              "      <td>81</td>\n",
              "      <td>54</td>\n",
              "    </tr>\n",
              "    <tr>\n",
              "      <th>246</th>\n",
              "      <td>247</td>\n",
              "      <td>12+ yrs</td>\n",
              "      <td>29</td>\n",
              "      <td>1</td>\n",
              "      <td>0</td>\n",
              "      <td>0</td>\n",
              "      <td>1</td>\n",
              "      <td>82</td>\n",
              "      <td>43</td>\n",
              "    </tr>\n",
              "    <tr>\n",
              "      <th>247</th>\n",
              "      <td>248</td>\n",
              "      <td>12+ yrs</td>\n",
              "      <td>23</td>\n",
              "      <td>1</td>\n",
              "      <td>0</td>\n",
              "      <td>0</td>\n",
              "      <td>1</td>\n",
              "      <td>83</td>\n",
              "      <td>40</td>\n",
              "    </tr>\n",
              "  </tbody>\n",
              "</table>\n",
              "<p>248 rows × 9 columns</p>\n",
              "</div>\n",
              "      <button class=\"colab-df-convert\" onclick=\"convertToInteractive('df-8c6c5203-1949-4f8f-821f-1afb7aa33627')\"\n",
              "              title=\"Convert this dataframe to an interactive table.\"\n",
              "              style=\"display:none;\">\n",
              "\n",
              "  <svg xmlns=\"http://www.w3.org/2000/svg\" height=\"24px\"viewBox=\"0 0 24 24\"\n",
              "       width=\"24px\">\n",
              "    <path d=\"M0 0h24v24H0V0z\" fill=\"none\"/>\n",
              "    <path d=\"M18.56 5.44l.94 2.06.94-2.06 2.06-.94-2.06-.94-.94-2.06-.94 2.06-2.06.94zm-11 1L8.5 8.5l.94-2.06 2.06-.94-2.06-.94L8.5 2.5l-.94 2.06-2.06.94zm10 10l.94 2.06.94-2.06 2.06-.94-2.06-.94-.94-2.06-.94 2.06-2.06.94z\"/><path d=\"M17.41 7.96l-1.37-1.37c-.4-.4-.92-.59-1.43-.59-.52 0-1.04.2-1.43.59L10.3 9.45l-7.72 7.72c-.78.78-.78 2.05 0 2.83L4 21.41c.39.39.9.59 1.41.59.51 0 1.02-.2 1.41-.59l7.78-7.78 2.81-2.81c.8-.78.8-2.07 0-2.86zM5.41 20L4 18.59l7.72-7.72 1.47 1.35L5.41 20z\"/>\n",
              "  </svg>\n",
              "      </button>\n",
              "\n",
              "\n",
              "\n",
              "    <div id=\"df-77c9a71d-4541-4c01-81b1-43724bd27970\">\n",
              "      <button class=\"colab-df-quickchart\" onclick=\"quickchart('df-77c9a71d-4541-4c01-81b1-43724bd27970')\"\n",
              "              title=\"Suggest charts.\"\n",
              "              style=\"display:none;\">\n",
              "\n",
              "<svg xmlns=\"http://www.w3.org/2000/svg\" height=\"24px\"viewBox=\"0 0 24 24\"\n",
              "     width=\"24px\">\n",
              "    <g>\n",
              "        <path d=\"M19 3H5c-1.1 0-2 .9-2 2v14c0 1.1.9 2 2 2h14c1.1 0 2-.9 2-2V5c0-1.1-.9-2-2-2zM9 17H7v-7h2v7zm4 0h-2V7h2v10zm4 0h-2v-4h2v4z\"/>\n",
              "    </g>\n",
              "</svg>\n",
              "      </button>\n",
              "    </div>\n",
              "\n",
              "<style>\n",
              "  .colab-df-quickchart {\n",
              "    background-color: #E8F0FE;\n",
              "    border: none;\n",
              "    border-radius: 50%;\n",
              "    cursor: pointer;\n",
              "    display: none;\n",
              "    fill: #1967D2;\n",
              "    height: 32px;\n",
              "    padding: 0 0 0 0;\n",
              "    width: 32px;\n",
              "  }\n",
              "\n",
              "  .colab-df-quickchart:hover {\n",
              "    background-color: #E2EBFA;\n",
              "    box-shadow: 0px 1px 2px rgba(60, 64, 67, 0.3), 0px 1px 3px 1px rgba(60, 64, 67, 0.15);\n",
              "    fill: #174EA6;\n",
              "  }\n",
              "\n",
              "  [theme=dark] .colab-df-quickchart {\n",
              "    background-color: #3B4455;\n",
              "    fill: #D2E3FC;\n",
              "  }\n",
              "\n",
              "  [theme=dark] .colab-df-quickchart:hover {\n",
              "    background-color: #434B5C;\n",
              "    box-shadow: 0px 1px 3px 1px rgba(0, 0, 0, 0.15);\n",
              "    filter: drop-shadow(0px 1px 2px rgba(0, 0, 0, 0.3));\n",
              "    fill: #FFFFFF;\n",
              "  }\n",
              "</style>\n",
              "\n",
              "    <script>\n",
              "      async function quickchart(key) {\n",
              "        const containerElement = document.querySelector('#' + key);\n",
              "        const charts = await google.colab.kernel.invokeFunction(\n",
              "            'suggestCharts', [key], {});\n",
              "      }\n",
              "    </script>\n",
              "\n",
              "      <script>\n",
              "\n",
              "function displayQuickchartButton(domScope) {\n",
              "  let quickchartButtonEl =\n",
              "    domScope.querySelector('#df-77c9a71d-4541-4c01-81b1-43724bd27970 button.colab-df-quickchart');\n",
              "  quickchartButtonEl.style.display =\n",
              "    google.colab.kernel.accessAllowed ? 'block' : 'none';\n",
              "}\n",
              "\n",
              "        displayQuickchartButton(document);\n",
              "      </script>\n",
              "      <style>\n",
              "    .colab-df-container {\n",
              "      display:flex;\n",
              "      flex-wrap:wrap;\n",
              "      gap: 12px;\n",
              "    }\n",
              "\n",
              "    .colab-df-convert {\n",
              "      background-color: #E8F0FE;\n",
              "      border: none;\n",
              "      border-radius: 50%;\n",
              "      cursor: pointer;\n",
              "      display: none;\n",
              "      fill: #1967D2;\n",
              "      height: 32px;\n",
              "      padding: 0 0 0 0;\n",
              "      width: 32px;\n",
              "    }\n",
              "\n",
              "    .colab-df-convert:hover {\n",
              "      background-color: #E2EBFA;\n",
              "      box-shadow: 0px 1px 2px rgba(60, 64, 67, 0.3), 0px 1px 3px 1px rgba(60, 64, 67, 0.15);\n",
              "      fill: #174EA6;\n",
              "    }\n",
              "\n",
              "    [theme=dark] .colab-df-convert {\n",
              "      background-color: #3B4455;\n",
              "      fill: #D2E3FC;\n",
              "    }\n",
              "\n",
              "    [theme=dark] .colab-df-convert:hover {\n",
              "      background-color: #434B5C;\n",
              "      box-shadow: 0px 1px 3px 1px rgba(0, 0, 0, 0.15);\n",
              "      filter: drop-shadow(0px 1px 2px rgba(0, 0, 0, 0.3));\n",
              "      fill: #FFFFFF;\n",
              "    }\n",
              "  </style>\n",
              "\n",
              "      <script>\n",
              "        const buttonEl =\n",
              "          document.querySelector('#df-8c6c5203-1949-4f8f-821f-1afb7aa33627 button.colab-df-convert');\n",
              "        buttonEl.style.display =\n",
              "          google.colab.kernel.accessAllowed ? 'block' : 'none';\n",
              "\n",
              "        async function convertToInteractive(key) {\n",
              "          const element = document.querySelector('#df-8c6c5203-1949-4f8f-821f-1afb7aa33627');\n",
              "          const dataTable =\n",
              "            await google.colab.kernel.invokeFunction('convertToInteractive',\n",
              "                                                     [key], {});\n",
              "          if (!dataTable) return;\n",
              "\n",
              "          const docLinkHtml = 'Like what you see? Visit the ' +\n",
              "            '<a target=\"_blank\" href=https://colab.research.google.com/notebooks/data_table.ipynb>data table notebook</a>'\n",
              "            + ' to learn more about interactive tables.';\n",
              "          element.innerHTML = '';\n",
              "          dataTable['output_type'] = 'display_data';\n",
              "          await google.colab.output.renderOutput(dataTable, element);\n",
              "          const docLink = document.createElement('div');\n",
              "          docLink.innerHTML = docLinkHtml;\n",
              "          element.appendChild(docLink);\n",
              "        }\n",
              "      </script>\n",
              "    </div>\n",
              "  </div>\n"
            ]
          },
          "metadata": {},
          "execution_count": 17
        }
      ]
    },
    {
      "cell_type": "code",
      "source": [
        "infert['education'].value_counts()"
      ],
      "metadata": {
        "colab": {
          "base_uri": "https://localhost:8080/"
        },
        "id": "LwzyjF2agx38",
        "outputId": "a74b4bc6-298b-42df-c20c-38b7ddd215fb"
      },
      "execution_count": 18,
      "outputs": [
        {
          "output_type": "execute_result",
          "data": {
            "text/plain": [
              "6-11yrs    120\n",
              "12+ yrs    116\n",
              "0-5yrs      12\n",
              "Name: education, dtype: int64"
            ]
          },
          "metadata": {},
          "execution_count": 18
        }
      ]
    },
    {
      "cell_type": "code",
      "source": [
        "X, _,y, _ = train_test_split(infert.iloc[:,2:9],infert.iloc[:,1],\n",
        "                             test_size=0.6,stratify=infert.iloc[:,1])\n",
        "y.value_counts()"
      ],
      "metadata": {
        "colab": {
          "base_uri": "https://localhost:8080/"
        },
        "id": "D6G-3-5JiA27",
        "outputId": "c63017b4-a541-484a-9309-193ce905fd8d"
      },
      "execution_count": 23,
      "outputs": [
        {
          "output_type": "execute_result",
          "data": {
            "text/plain": [
              "6-11yrs    48\n",
              "12+ yrs    46\n",
              "0-5yrs      5\n",
              "Name: education, dtype: int64"
            ]
          },
          "metadata": {},
          "execution_count": 23
        }
      ]
    },
    {
      "cell_type": "markdown",
      "source": [
        "#Measures of centrality and variability"
      ],
      "metadata": {
        "id": "9mNyDA1um87h"
      }
    },
    {
      "cell_type": "code",
      "source": [
        "from scipy import stats\n",
        "\n",
        "players = [40000,18000,12000,250000,30000,140000,300000,40000,800000]\n",
        "np.mean(players)"
      ],
      "metadata": {
        "colab": {
          "base_uri": "https://localhost:8080/"
        },
        "id": "7oNDukYlmBF5",
        "outputId": "5d30a82d-ec83-42ba-83bf-10d40d349e17"
      },
      "execution_count": 24,
      "outputs": [
        {
          "output_type": "execute_result",
          "data": {
            "text/plain": [
              "181111.11111111112"
            ]
          },
          "metadata": {},
          "execution_count": 24
        }
      ]
    },
    {
      "cell_type": "code",
      "source": [
        "np.median(players)"
      ],
      "metadata": {
        "colab": {
          "base_uri": "https://localhost:8080/"
        },
        "id": "oQC76eMEn6sY",
        "outputId": "983ada1a-a8e3-4937-c91a-beb85c05c06f"
      },
      "execution_count": 25,
      "outputs": [
        {
          "output_type": "execute_result",
          "data": {
            "text/plain": [
              "40000.0"
            ]
          },
          "metadata": {},
          "execution_count": 25
        }
      ]
    },
    {
      "cell_type": "code",
      "source": [
        "#generation of quartiles\n",
        "quartis = np.quantile(players,[0,0.25,0.5,0.75,1])\n",
        "quartis"
      ],
      "metadata": {
        "colab": {
          "base_uri": "https://localhost:8080/"
        },
        "id": "SS-rg6W0oAXV",
        "outputId": "d70da544-7c4c-450a-b5d4-fcf8b005ab2d"
      },
      "execution_count": 26,
      "outputs": [
        {
          "output_type": "execute_result",
          "data": {
            "text/plain": [
              "array([ 12000.,  30000.,  40000., 250000., 800000.])"
            ]
          },
          "metadata": {},
          "execution_count": 26
        }
      ]
    },
    {
      "cell_type": "code",
      "source": [
        "#Standard deviation\n",
        "np.std(players,ddof=1)"
      ],
      "metadata": {
        "colab": {
          "base_uri": "https://localhost:8080/"
        },
        "id": "KOi_8q1iozHA",
        "outputId": "bcb62fbf-8e9b-4669-cdc3-167e52b08a5e"
      },
      "execution_count": 27,
      "outputs": [
        {
          "output_type": "execute_result",
          "data": {
            "text/plain": [
              "255307.87514511007"
            ]
          },
          "metadata": {},
          "execution_count": 27
        }
      ]
    },
    {
      "cell_type": "code",
      "source": [
        "stats.describe(players)"
      ],
      "metadata": {
        "colab": {
          "base_uri": "https://localhost:8080/"
        },
        "id": "ZaQufYKEpEiZ",
        "outputId": "70a51c54-28ad-432e-ae9f-70790061ca35"
      },
      "execution_count": 28,
      "outputs": [
        {
          "output_type": "execute_result",
          "data": {
            "text/plain": [
              "DescribeResult(nobs=9, minmax=(12000, 800000), mean=181111.11111111112, variance=65182111111.11111, skewness=1.758635899846188, kurtosis=1.9572075427527729)"
            ]
          },
          "metadata": {},
          "execution_count": 28
        }
      ]
    },
    {
      "cell_type": "markdown",
      "source": [
        "#Normal distribution"
      ],
      "metadata": {
        "id": "OQ95QKfBpcIC"
      }
    },
    {
      "cell_type": "code",
      "source": [
        "#Example: mean=8 and std = 2\n",
        "#probability that x is less than 6\n",
        "\n",
        "from scipy.stats import norm\n",
        "\n",
        "norm.cdf(6,8,2) # \"Less than\" uses that \"CDF\" method"
      ],
      "metadata": {
        "colab": {
          "base_uri": "https://localhost:8080/"
        },
        "id": "OY3qvxkmpZ99",
        "outputId": "b1121ca8-f9ee-430c-9593-dddb890ceebc"
      },
      "execution_count": 29,
      "outputs": [
        {
          "output_type": "execute_result",
          "data": {
            "text/plain": [
              "0.15865525393145707"
            ]
          },
          "metadata": {},
          "execution_count": 29
        }
      ]
    },
    {
      "cell_type": "code",
      "source": [
        "#probability that x is greater than less 6\n",
        "\n",
        "#norm.sf(6,8,2) \"Bigger than\" uses that \"SF\" method\n",
        "1 - norm.cdf(6,8,2)"
      ],
      "metadata": {
        "colab": {
          "base_uri": "https://localhost:8080/"
        },
        "id": "Sk4CmbTutU90",
        "outputId": "479143f1-0b2b-4c16-8257-876fd4361e1e"
      },
      "execution_count": 31,
      "outputs": [
        {
          "output_type": "execute_result",
          "data": {
            "text/plain": [
              "0.8413447460685429"
            ]
          },
          "metadata": {},
          "execution_count": 31
        }
      ]
    },
    {
      "cell_type": "code",
      "source": [
        "#probability that x is less than 6 or greater than 10\n",
        "norm.cdf(6,8,2) + norm.sf(10,8,2)"
      ],
      "metadata": {
        "colab": {
          "base_uri": "https://localhost:8080/"
        },
        "id": "i-R3CGlAuCDG",
        "outputId": "299c1878-a72c-43b4-8d95-8533278cfbc4"
      },
      "execution_count": 33,
      "outputs": [
        {
          "output_type": "execute_result",
          "data": {
            "text/plain": [
              "0.31731050786291415"
            ]
          },
          "metadata": {},
          "execution_count": 33
        }
      ]
    },
    {
      "cell_type": "code",
      "source": [
        "#probability x is less than 10 and greater than 8\n",
        "norm.cdf(10,8,2) - norm.sf(8,8,2)"
      ],
      "metadata": {
        "colab": {
          "base_uri": "https://localhost:8080/"
        },
        "id": "l75m3uBgw3m4",
        "outputId": "ca6745ad-2563-49bc-98df-9667a98b5381"
      },
      "execution_count": 34,
      "outputs": [
        {
          "output_type": "execute_result",
          "data": {
            "text/plain": [
              "0.3413447460685429"
            ]
          },
          "metadata": {},
          "execution_count": 34
        }
      ]
    },
    {
      "cell_type": "markdown",
      "source": [
        "#Normality tests"
      ],
      "metadata": {
        "id": "euHflkc-yl_J"
      }
    },
    {
      "cell_type": "code",
      "source": [
        "from scipy import stats\n",
        "from scipy.stats import norm,skewnorm\n",
        "import matplotlib.pyplot as plt\n",
        "\n",
        "data = norm.rvs(size=1000)\n",
        "data"
      ],
      "metadata": {
        "colab": {
          "base_uri": "https://localhost:8080/"
        },
        "id": "IvKfTZJ9yqqM",
        "outputId": "ad2d6a02-8b47-47c6-d72e-a0b5eaa850a7"
      },
      "execution_count": 40,
      "outputs": [
        {
          "output_type": "execute_result",
          "data": {
            "text/plain": [
              "array([-1.55448628e+00, -7.47923607e-01, -1.07260430e+00, -2.94166022e-01,\n",
              "       -7.80035059e-01,  3.61742672e-02, -1.01594584e-01, -8.79066053e-01,\n",
              "       -1.30118167e+00, -1.33553777e+00, -1.03231152e-01,  4.59944820e-01,\n",
              "       -9.73203911e-01, -9.87692832e-01,  1.32441744e+00,  5.19162348e-01,\n",
              "       -1.11150632e+00, -1.39013289e+00, -4.05593581e-01,  7.78443376e-01,\n",
              "       -1.77733690e+00, -4.25904309e-01, -9.57130193e-01,  1.16396319e-01,\n",
              "        5.33338113e-01, -6.36166673e-01, -5.56091487e-02, -1.19187597e+00,\n",
              "        2.47065142e-01,  2.70574062e-01,  3.79527621e-01,  6.81373137e-01,\n",
              "        3.28586318e-01, -7.76134604e-02,  3.14406985e-01, -1.15891609e+00,\n",
              "        3.69048337e-01,  2.14745878e-01, -1.24473874e+00,  3.72121391e-01,\n",
              "        1.52435330e-01,  1.70067904e+00,  2.55632238e+00, -2.85333003e-02,\n",
              "        2.96262790e-01,  5.61403081e-01, -1.33034272e+00,  1.62398256e+00,\n",
              "       -1.95573250e-01,  1.69535570e+00,  3.24898694e-02, -4.66299467e-01,\n",
              "        7.11033017e-01, -3.03180605e-01, -1.19573030e+00, -2.86207251e-01,\n",
              "       -5.52214963e-01,  1.08743643e+00, -3.21147640e-02,  1.68784214e-01,\n",
              "        9.96306785e-02, -2.10799617e-01,  7.25972876e-01,  2.66364710e-01,\n",
              "        1.47941598e+00,  4.64072968e-02,  2.00562950e+00, -6.46787398e-03,\n",
              "        4.39901253e-01, -1.15083385e+00,  1.04700908e+00,  2.79319464e-01,\n",
              "       -3.95750546e-01, -1.13499954e+00, -1.74999369e+00, -1.02916898e-01,\n",
              "        1.50545681e+00, -4.72830589e-02, -2.43785975e-01,  5.17469417e-01,\n",
              "       -1.12894922e-01, -1.02891976e+00, -1.00193765e+00, -8.72041596e-01,\n",
              "        2.35068626e+00,  5.29655446e-01,  3.40973812e-01, -3.66909958e-01,\n",
              "        4.69972924e-01, -1.21718993e+00, -1.57830618e+00, -2.57550131e-01,\n",
              "       -2.28397687e+00, -2.54112870e-01,  4.01370524e-02, -7.23594393e-01,\n",
              "        1.80217262e+00, -1.36885446e-01,  5.42826402e-01,  5.09029159e-01,\n",
              "       -7.55307298e-01, -1.20036832e+00,  3.47449387e-01,  9.36632634e-01,\n",
              "        2.98383226e+00,  1.75196764e-01, -2.74879140e-03, -1.02331367e+00,\n",
              "       -1.56784966e+00, -3.23318986e-01, -1.46214561e+00,  2.75491833e-01,\n",
              "       -1.89643397e+00,  6.49262105e-02, -6.26059557e-01, -8.94859773e-01,\n",
              "       -3.53721573e-01, -1.49569279e+00, -1.10485078e+00, -1.05038332e+00,\n",
              "        4.02224493e-01, -8.62995261e-01, -4.99596651e-01,  8.41874798e-01,\n",
              "        1.43191060e-02,  2.37738519e+00,  1.37222327e+00, -9.13149254e-01,\n",
              "        2.78369245e-01,  9.81502223e-01,  3.10556995e-01,  3.89908095e-01,\n",
              "        1.40326969e+00, -1.31236173e-01,  6.69485590e-01,  6.51369301e-01,\n",
              "        3.51182088e-01,  1.73705023e+00,  1.64203689e+00, -7.85796472e-01,\n",
              "        2.43296506e-01,  2.66665303e-01,  5.99900160e-01,  1.55016108e-01,\n",
              "        5.26283052e-01,  5.06370048e-01, -3.43449032e-01, -3.66639211e-02,\n",
              "       -2.42822892e+00, -1.21823177e+00,  4.32294005e-02,  2.64997192e-01,\n",
              "        3.66239455e-01,  1.99001545e+00,  1.17384610e+00, -4.89048881e-01,\n",
              "       -4.99788652e-01, -1.45444216e+00,  7.74895060e-01, -1.46478134e-01,\n",
              "       -1.76942276e+00,  1.28407812e+00, -8.85324291e-01,  1.04597315e+00,\n",
              "       -5.44907661e-01, -7.90619219e-01, -7.92804119e-01,  1.32880717e+00,\n",
              "       -2.45479033e-01,  1.54057832e+00, -1.96641053e+00, -8.74305260e-01,\n",
              "       -1.14816742e+00,  7.87256875e-01, -6.73109478e-01,  8.55647997e-02,\n",
              "       -1.44428336e+00,  8.06500701e-01,  2.61667836e-01, -6.82125497e-02,\n",
              "        3.07720719e-01, -4.10065988e-01,  6.18318748e-01,  1.76558382e-01,\n",
              "       -4.37394301e-01, -9.40059797e-01,  8.01525968e-01,  6.97272433e-01,\n",
              "        9.03758362e-02, -2.06299762e-01, -2.52271702e+00, -1.38351348e+00,\n",
              "       -1.52067291e+00, -9.60147883e-01,  6.50406781e-01, -2.74541374e-01,\n",
              "       -1.69616069e+00,  1.03579772e+00,  7.55619914e-01,  2.22863162e+00,\n",
              "       -1.94539671e-01,  1.12807118e+00,  1.78811740e+00, -2.33372856e+00,\n",
              "        1.60739587e-02,  2.20243147e-01, -4.46036745e-01, -9.10316103e-01,\n",
              "        2.33766316e-01,  1.68921473e+00, -2.58750533e+00, -1.49813086e+00,\n",
              "       -1.61625874e-01, -1.22281796e-01,  4.75560937e-01, -3.25051776e-01,\n",
              "        1.40183017e+00, -7.66244044e-01,  5.58970835e-01, -7.54375952e-01,\n",
              "        3.61276046e-01, -9.10890141e-01,  2.15965523e-01,  3.89495058e-01,\n",
              "       -4.40850626e-01, -1.61796374e+00, -1.11840119e-01,  1.99480137e+00,\n",
              "        1.03358193e+00,  1.09614744e+00, -4.08914373e-01, -1.43599248e+00,\n",
              "       -2.71989903e+00, -1.08590189e+00, -1.25753638e+00, -8.44908871e-01,\n",
              "       -7.45711032e-01, -7.09252346e-01,  7.47480553e-01,  1.51550083e+00,\n",
              "        6.64402629e-03, -1.14981503e+00,  3.75128032e-01, -1.65156912e-01,\n",
              "        2.64959912e-01,  6.49200015e-01,  1.42040501e+00,  1.49013030e+00,\n",
              "       -3.98875883e-01, -3.24083075e-01, -2.10975713e+00, -5.46629393e-01,\n",
              "        6.26957302e-01,  6.06274204e-01,  6.40754850e-01,  6.97079589e-01,\n",
              "       -6.56817238e-01, -2.63138565e-02, -5.47047729e-01,  8.45782341e-01,\n",
              "        2.16169461e+00, -5.95554902e-01,  1.82179115e+00, -1.65021003e-01,\n",
              "       -9.85701952e-01, -7.11999424e-01, -2.36984452e-01,  2.87058599e-01,\n",
              "        3.16380430e-01, -6.92521213e-01,  1.45919444e+00, -3.87614700e-01,\n",
              "       -2.55132107e-01, -1.65835551e+00, -1.11829817e+00, -9.31748026e-02,\n",
              "        1.06533429e+00, -4.54310262e-01,  8.42005658e-01, -7.06742152e-01,\n",
              "        3.78610818e-01, -4.07146163e-01, -1.13148518e+00, -2.02770204e-01,\n",
              "       -4.75499735e-01, -2.10606021e+00,  1.31168278e+00, -2.06403022e-01,\n",
              "        9.70101743e-01, -9.03895130e-01,  6.15879089e-01, -2.73719862e-02,\n",
              "        5.04916964e-01,  1.87006162e+00,  9.49719865e-01, -3.73629295e-01,\n",
              "       -1.45227830e-01,  2.79117065e-02, -5.87710389e-01, -8.61514556e-01,\n",
              "       -5.74837289e-01,  6.03562447e-02, -1.74794906e+00,  8.71255625e-01,\n",
              "       -5.40606934e-01,  1.38362827e-01,  2.77403166e-01, -5.60314403e-04,\n",
              "        6.92290176e-01,  3.55509096e-01, -8.69322476e-01,  1.97409228e-01,\n",
              "        7.60814729e-01,  1.38976012e+00,  7.65250145e-01, -5.58475742e-01,\n",
              "       -4.99684422e-01, -1.16109520e+00,  3.42900013e-01, -1.94232599e-01,\n",
              "        9.07798985e-01,  1.11259106e-01,  6.74220133e-02, -6.22825335e-01,\n",
              "       -3.90210765e-01,  1.27321534e+00, -5.99630647e-02, -2.02321824e-01,\n",
              "       -3.28493723e-01, -1.76415686e-01, -1.47596817e+00, -4.85097454e-01,\n",
              "        1.70774710e-01,  1.01082591e+00, -2.03515107e-02,  7.24491082e-01,\n",
              "       -2.08763032e+00,  2.96981420e-01, -2.08201514e+00,  7.32715423e-01,\n",
              "        2.48427933e-01, -5.10767460e-01,  5.41308312e-03,  1.16125777e+00,\n",
              "        1.48318783e-01,  6.39778098e-01,  1.00896909e+00,  1.02849018e+00,\n",
              "        9.17426092e-01,  2.04565775e-01, -1.63192623e-01, -1.40541764e+00,\n",
              "       -4.11048394e-01, -8.33951148e-01, -2.37329873e-01, -6.62620785e-01,\n",
              "        6.70198958e-01,  4.57274486e-01, -1.46722986e-01, -1.33611282e-01,\n",
              "        5.89265211e-02,  1.86518519e-01, -4.46653036e-01, -8.79728515e-01,\n",
              "       -8.57494544e-01, -3.10969038e-01,  1.73602795e-01,  1.47342533e+00,\n",
              "        1.13746558e+00, -1.36699572e+00,  8.70293676e-01,  7.38643722e-02,\n",
              "       -8.32556189e-01,  8.64896146e-01, -4.46762555e-01,  6.60159952e-01,\n",
              "        1.69900221e+00,  3.48344922e-01, -1.95531605e+00, -8.85023775e-01,\n",
              "        7.35014207e-01,  3.33612030e-01,  3.74410000e-02,  1.12544300e+00,\n",
              "        7.98393080e-01,  1.89295070e+00,  5.50434166e-01, -1.69055986e+00,\n",
              "        8.07693179e-02,  1.67416041e+00, -9.02934191e-01, -5.69987172e-01,\n",
              "        5.49558077e-01,  3.29167529e-01, -1.28065422e-01,  3.52025910e-01,\n",
              "       -1.75381291e+00,  2.47097487e-01, -1.39728428e-01,  5.67441789e-01,\n",
              "       -5.01422011e-01, -1.50581020e+00,  1.15441912e+00, -6.51786033e-01,\n",
              "       -6.18720126e-01, -1.11904998e+00,  5.89896877e-02, -3.23737038e-01,\n",
              "       -5.16172919e-01, -9.47052348e-02,  1.15133853e+00, -6.91739704e-02,\n",
              "       -3.87170487e-01, -1.13134405e+00,  3.14187957e-01, -7.72564826e-01,\n",
              "       -7.81168058e-01, -1.03502933e+00, -4.68673792e-01, -1.97377644e-01,\n",
              "       -1.82205647e+00,  1.26905083e+00, -3.46151937e-01, -5.17319576e-01,\n",
              "        6.83058230e-01, -1.08010636e+00, -1.61365429e+00, -6.03133727e-01,\n",
              "       -1.72950392e+00,  1.80425246e+00,  7.23519651e-01,  9.79519647e-01,\n",
              "        1.83602139e-01, -1.19347252e+00, -7.40722288e-01,  9.88253098e-01,\n",
              "        1.25627388e+00,  1.25912026e-01, -4.35987693e-01,  1.73938941e-02,\n",
              "        1.35922052e+00, -1.64767315e+00, -2.74068321e-01,  5.75969427e-01,\n",
              "       -3.01909781e-01,  5.19104697e-01,  3.55721015e-01, -6.24702183e-01,\n",
              "        6.51320851e-01, -9.01466349e-01, -1.99290421e-01,  4.89902875e-02,\n",
              "        4.21436688e-01,  3.18930704e-01, -5.13649587e-01, -4.14604227e-01,\n",
              "        2.01089128e-01, -1.02312966e+00,  1.63598547e-01, -7.68323872e-01,\n",
              "        4.04377308e-01, -1.08469767e-01, -5.45639039e-01,  1.77623668e+00,\n",
              "       -1.68731509e+00,  7.95304918e-01, -9.44230602e-01, -2.17600604e-01,\n",
              "        1.31432773e+00,  4.78557547e-01,  6.11281503e-01, -1.53674436e+00,\n",
              "       -4.01149870e-01, -1.01838604e+00, -4.44549501e-01,  2.37504666e-01,\n",
              "       -3.69877126e-01, -1.56058429e+00,  9.98175168e-02, -1.42195239e+00,\n",
              "        1.01191400e+00,  2.33215805e+00,  6.34260368e-01,  3.67982789e-01,\n",
              "        3.73178802e-01,  9.56348006e-01,  5.65385873e-01,  6.59898063e-01,\n",
              "       -1.98295701e+00, -3.27507510e+00,  5.17072686e-01,  7.47708970e-01,\n",
              "        9.46857547e-01, -1.90686702e+00, -8.19012792e-01,  3.92494892e-01,\n",
              "        3.33248707e-01,  1.17488833e+00, -2.27276426e+00, -4.44853493e-01,\n",
              "        4.49485361e-01,  2.51053616e-01, -6.85780935e-01,  2.29358269e+00,\n",
              "       -8.07031142e-01, -1.37825497e+00, -1.63402398e+00,  1.37059891e-01,\n",
              "       -1.06251816e+00,  1.03341180e+00, -7.29200485e-01,  4.17380509e-01,\n",
              "        1.30710389e-01,  4.88597876e-01,  3.82206674e-01, -1.54111939e+00,\n",
              "        5.02604324e-01, -3.19290838e-02, -5.44274609e-01, -1.43742335e-01,\n",
              "       -1.34076381e-01,  1.09437352e+00,  4.37547820e-01, -8.75935845e-01,\n",
              "        1.62284360e+00, -7.26426352e-01,  1.45169799e+00,  3.88696630e-01,\n",
              "       -6.40145147e-01,  2.13595584e-02, -8.40125956e-01,  1.11204604e+00,\n",
              "       -1.07783409e+00,  3.18047131e-01, -1.41007626e+00, -9.42477109e-01,\n",
              "       -2.31641391e-01,  3.25321595e-01,  1.34650039e+00, -3.37741787e-01,\n",
              "       -6.27635875e-01, -9.92297413e-01, -4.55536060e-02, -5.74822785e-01,\n",
              "        1.93967861e+00, -1.90436431e+00, -6.46633516e-01, -7.97339641e-02,\n",
              "        8.54969820e-01, -1.06163413e+00,  6.17864871e-01,  1.15979594e+00,\n",
              "        5.83349409e-02,  8.09696620e-01,  6.46958882e-02, -1.63972262e+00,\n",
              "        3.98255252e-01, -1.15311157e+00, -3.65082788e-01, -1.54400614e+00,\n",
              "        1.60298518e+00,  2.89864223e+00,  6.14410688e-01,  6.50249077e-01,\n",
              "       -9.07838293e-01,  2.28882309e+00, -2.39908905e-01,  2.03335584e-01,\n",
              "        1.28857554e+00, -6.11037348e-03,  2.13798323e+00, -5.29812498e-01,\n",
              "        4.65761229e-01,  4.59028873e-01,  1.26519545e+00, -3.68066651e-01,\n",
              "       -5.98614775e-01,  1.43642369e+00,  2.81636331e+00, -9.87712163e-01,\n",
              "       -6.18260420e-01, -1.84435384e+00, -6.05686406e-01,  1.37779890e+00,\n",
              "       -1.49739527e+00,  2.54730374e-01,  1.89782517e-01,  3.71572580e-01,\n",
              "       -6.97088375e-01, -3.13919102e-01,  4.64284559e-01, -1.50961788e+00,\n",
              "        9.02496701e-01,  2.28378080e-01,  6.66972697e-01,  1.87613600e+00,\n",
              "       -7.56852647e-01, -4.29419837e-01,  2.57351808e+00,  6.23590127e-01,\n",
              "        2.55531099e-01, -1.28627388e+00,  1.17611680e+00,  1.14985006e+00,\n",
              "       -1.16167047e+00, -2.27983231e+00, -5.70342087e-01,  3.66922957e-01,\n",
              "        1.35355178e-01, -1.45293282e-02,  5.86641841e-01, -1.92928834e+00,\n",
              "       -1.05796366e+00, -1.84570767e-02,  6.48549595e-01, -1.36331153e-01,\n",
              "       -6.89895520e-01, -2.43371123e-01, -1.93626142e+00,  1.42529972e+00,\n",
              "        1.90643449e+00,  6.92322476e-01,  1.04155326e+00, -1.28544995e+00,\n",
              "       -3.85054221e-01, -8.41360287e-01,  6.76615449e-01, -1.08715139e+00,\n",
              "       -6.99054066e-01, -5.47708474e-01, -1.69724563e+00, -1.93056692e+00,\n",
              "        1.23345259e+00, -7.19295656e-01,  1.76315172e+00,  1.06439466e+00,\n",
              "        7.01273153e-01, -9.16578899e-01, -2.26067523e-01,  1.18861837e-01,\n",
              "       -4.21893525e-01, -5.72616754e-01, -1.31028791e+00, -7.85842643e-01,\n",
              "        1.07109313e+00,  4.48569429e-01, -9.50235802e-01, -2.00650382e+00,\n",
              "       -5.69640710e-02, -1.29827660e+00,  1.68799637e-01,  3.42336745e-01,\n",
              "       -6.92037712e-01, -6.84652508e-01,  1.10960345e+00,  1.08571433e+00,\n",
              "        1.40071057e+00,  2.28150907e-01,  4.60785146e-01,  6.45514775e-01,\n",
              "       -6.62968757e-01,  5.94722594e-01, -8.36732929e-01,  9.08710624e-01,\n",
              "       -4.16633928e-01, -7.01386284e-02, -5.27403815e-01, -1.36076258e+00,\n",
              "       -9.37912253e-01,  1.12956655e+00, -3.04585347e-01, -1.57081808e+00,\n",
              "       -6.18016376e-01, -5.17353341e-01, -4.90150811e-01,  1.48602189e+00,\n",
              "        2.47892815e+00,  8.99095851e-02, -3.10151180e+00, -8.77070899e-01,\n",
              "       -5.39171577e-01,  3.75095095e-01,  1.80218377e+00,  6.03389885e-01,\n",
              "        7.75273811e-01, -6.11070980e-01, -1.04381780e+00, -1.06614801e+00,\n",
              "       -5.15545870e-01,  3.76793622e-01,  6.05352253e-02,  5.54114895e-01,\n",
              "        3.30501494e-01,  2.19206772e-01,  7.45861472e-01, -1.68907597e+00,\n",
              "       -1.96034036e-01,  2.51271760e-01, -8.75632871e-01,  3.49382996e-01,\n",
              "       -1.62446753e+00, -1.12682765e+00,  1.83467290e-01,  8.81618129e-01,\n",
              "        8.71469407e-01,  5.04534059e-01,  1.98519772e+00,  5.63169807e-01,\n",
              "        1.09019085e+00,  2.12949368e+00, -7.62371152e-01,  2.97180299e-01,\n",
              "       -1.35417798e+00,  9.79086723e-01,  9.92603360e-02, -1.07133350e-01,\n",
              "       -7.53734809e-03,  3.48731125e-02,  1.81867537e+00,  7.23239293e-01,\n",
              "        6.76737172e-01, -2.03302178e+00,  2.95457836e-01, -1.22686386e+00,\n",
              "       -1.40535111e+00,  4.89818112e-02,  9.14953832e-01, -4.71114182e-01,\n",
              "        1.26184958e+00, -1.47679157e+00,  2.91007366e-01, -1.95786773e-01,\n",
              "        5.14114684e-01, -8.69848795e-01, -3.14076225e+00,  1.90001988e+00,\n",
              "        7.71279470e-02,  3.83790940e-01, -3.14188011e-01,  1.03499845e+00,\n",
              "       -3.34418200e-01, -8.51183304e-01, -8.29367519e-01, -6.50801733e-01,\n",
              "       -1.30055163e+00, -4.56680389e-01,  7.42742572e-01, -1.17534773e+00,\n",
              "        1.01582661e-01,  7.28605984e-02, -5.98447289e-01,  1.94742501e-01,\n",
              "        5.83442556e-01,  8.53839081e-01,  2.04440608e+00, -8.87788788e-01,\n",
              "        4.10556237e-02, -1.36370048e+00, -1.12461244e+00,  1.19006833e+00,\n",
              "        1.84788972e-01, -3.99538083e-01, -5.53183358e-01, -3.08999063e-01,\n",
              "        7.93827441e-01, -1.28335650e+00, -3.56746171e-01,  1.98480942e+00,\n",
              "       -8.53734377e-01,  2.14028626e-01,  2.14013517e+00,  1.67472843e-01,\n",
              "        4.24260211e-01, -7.51847793e-01, -1.62538808e+00,  2.96682073e-01,\n",
              "        1.04716363e+00,  5.41341435e-01, -2.73463482e-01, -1.06918211e+00,\n",
              "        1.38430365e+00,  2.20079774e-01, -9.86046313e-01,  1.28462332e+00,\n",
              "        1.97402594e+00,  1.21471302e+00,  5.58239630e-01,  2.29614950e+00,\n",
              "        8.50524904e-04,  1.56002800e+00, -3.75638714e-02,  1.39307185e+00,\n",
              "        6.43141646e-01,  5.80408813e-01, -2.52125782e-01, -6.74538113e-01,\n",
              "        1.38721323e+00, -6.52100389e-01, -6.85488471e-01,  1.25082420e+00,\n",
              "       -1.28858176e+00,  1.91770441e+00, -1.72877816e-01,  2.49835513e-01,\n",
              "        2.08872239e+00,  1.97928158e-01, -6.85357482e-01,  7.93618551e-01,\n",
              "       -7.23862855e-01, -1.05640312e+00,  2.74179594e+00, -1.53914041e+00,\n",
              "       -4.59607693e-01, -1.80877303e+00,  5.89393074e-01, -9.87273233e-01,\n",
              "       -2.08047424e+00, -1.81980556e-01, -1.11483803e+00,  2.24167819e-01,\n",
              "       -4.16481230e-01, -5.18470900e-01,  1.16850053e+00, -8.42979338e-01,\n",
              "       -5.46491737e-01,  6.82292219e-01,  6.04176352e-01,  1.81908721e+00,\n",
              "       -5.79995996e-01, -1.57440642e+00, -2.07511809e-01, -1.42056482e+00,\n",
              "       -8.05672991e-01,  1.00770791e+00, -5.34119978e-01,  9.54992536e-01,\n",
              "        5.55674750e-01, -8.90991904e-01,  5.04912351e-01,  6.89714694e-01,\n",
              "       -3.53071299e-01,  3.69610112e-01, -1.26922658e+00,  4.87087784e-01,\n",
              "       -1.08891137e+00,  8.39599151e-01, -1.32656887e+00,  5.31018206e-01,\n",
              "        8.29885791e-01,  2.63041962e-01, -1.14060106e+00, -3.52942567e-01,\n",
              "        1.28452758e+00,  5.29210620e-01, -4.51496569e-01,  6.72053761e-02,\n",
              "       -1.64502645e+00,  1.87179806e-01, -7.88531321e-01,  6.95238831e-01,\n",
              "       -9.08829881e-01, -4.66708832e-01, -1.32284528e+00,  6.98482216e-01,\n",
              "        6.02992276e-01,  2.29915441e-01,  1.02487414e+00,  2.44644891e-02,\n",
              "       -1.46164290e-01, -3.62844365e-02,  3.75331810e-01,  1.69011752e+00,\n",
              "        2.68913383e-01,  8.25338335e-01, -7.60295454e-01,  8.65153128e-01,\n",
              "        6.20061476e-01, -1.49418641e+00, -1.82187503e+00,  2.92519282e-01,\n",
              "        2.17655540e-01,  6.50562752e-01, -4.14034471e-01,  6.12294794e-01,\n",
              "       -5.38306041e-01,  1.66562048e+00,  1.60201192e+00, -1.62960622e-01,\n",
              "       -1.69802234e+00,  2.25048994e-01, -4.56623808e-01,  1.03808649e+00,\n",
              "        2.26993179e-01,  1.68665499e+00, -1.34886796e+00,  3.31158738e-02,\n",
              "       -1.26607400e+00,  3.80871522e-01, -3.14807252e-01, -7.78013155e-01,\n",
              "       -8.76338341e-01, -1.12354085e+00, -9.45973285e-01, -2.66576762e-03,\n",
              "        1.40970376e+00,  1.18182222e+00, -1.78552515e+00, -5.88095386e-01,\n",
              "       -6.15062675e-01,  4.33676906e-01, -2.24454619e-01, -3.80634003e-01,\n",
              "       -5.72778405e-01,  1.77397686e+00,  1.62570514e+00,  3.51951674e-01,\n",
              "       -3.25666917e-01,  2.81667333e-01, -1.54517059e-01, -4.18909846e-02,\n",
              "        1.15156504e+00,  2.99003696e-01, -4.38047217e-01,  1.52829628e+00,\n",
              "        2.81455290e-01,  2.25954263e-01, -4.41879660e-01,  7.59136419e-01,\n",
              "       -1.66697080e+00, -1.53283644e-01, -5.07556870e-01, -9.41459478e-01,\n",
              "       -3.65867206e-01, -1.77792924e+00, -1.30558207e+00, -3.69645778e-01,\n",
              "       -2.09976769e+00,  7.68587422e-01, -1.56231211e+00, -6.87773866e-01,\n",
              "       -1.42180892e+00, -4.01176289e-01,  4.83414188e-02, -8.94129677e-02,\n",
              "        1.24480208e+00, -4.45221028e-01, -6.02033777e-01,  1.05659501e+00,\n",
              "       -5.53816048e-01, -9.90654144e-03, -1.28106947e+00,  6.16112268e-01,\n",
              "       -4.22260005e-01, -7.34629783e-01, -6.21131189e-01, -1.29199241e+00,\n",
              "        5.95650816e-02,  6.98271354e-01, -8.61590464e-01, -7.91747812e-01,\n",
              "        6.54343441e-01, -3.54926010e-01,  5.97326350e-01,  7.49148486e-01,\n",
              "        9.96053084e-01, -5.93434249e-01, -1.13771200e+00,  9.04087728e-01,\n",
              "        6.55401349e-01,  5.05741407e-01,  1.03542205e+00, -9.26360763e-02,\n",
              "        2.78020731e+00,  4.16467561e-01,  6.22548695e-01, -3.30849181e-01,\n",
              "       -1.00273382e+00, -2.47409995e+00, -2.07025389e+00,  7.71004370e-01,\n",
              "        3.92554906e-01,  4.07098584e-01,  1.46741144e+00, -4.14323394e-01,\n",
              "        1.68940436e+00,  1.13068130e-01, -1.02439886e+00, -1.54979640e+00,\n",
              "        4.83890499e-01,  4.29846658e-01,  1.78508003e-01, -1.55671252e+00,\n",
              "        8.79896642e-01, -1.54279679e-01, -5.92983214e-01,  1.23401125e+00,\n",
              "        1.20549527e+00,  2.24643163e-01, -5.39694712e-01,  1.26274557e+00])"
            ]
          },
          "metadata": {},
          "execution_count": 40
        }
      ]
    },
    {
      "cell_type": "code",
      "source": [
        "plt.hist(data,bins=20)\n",
        "plt.title('Data table')"
      ],
      "metadata": {
        "colab": {
          "base_uri": "https://localhost:8080/",
          "height": 469
        },
        "id": "QSvElFBqzo4x",
        "outputId": "952144b4-addd-415f-dcd2-683da62dd586"
      },
      "execution_count": 41,
      "outputs": [
        {
          "output_type": "execute_result",
          "data": {
            "text/plain": [
              "Text(0.5, 1.0, 'Data table')"
            ]
          },
          "metadata": {},
          "execution_count": 41
        },
        {
          "output_type": "display_data",
          "data": {
            "text/plain": [
              "<Figure size 640x480 with 1 Axes>"
            ],
            "image/png": "[encoded data removed]"
          },
          "metadata": {}
        }
      ]
    },
    {
      "cell_type": "code",
      "source": [
        "fig,ax = plt.subplots()\n",
        "stats.probplot(data,fit=True,plot=ax)\n",
        "plt.show()"
      ],
      "metadata": {
        "colab": {
          "base_uri": "https://localhost:8080/",
          "height": 472
        },
        "id": "YGodGOFv044W",
        "outputId": "e27407f9-8615-4385-80bc-9376eaed4b97"
      },
      "execution_count": 42,
      "outputs": [
        {
          "output_type": "display_data",
          "data": {
            "text/plain": [
              "<Figure size 640x480 with 1 Axes>"
            ],
            "image/png": "[encoded data removed]"
          },
          "metadata": {}
        }
      ]
    },
    {
      "cell_type": "markdown",
      "source": [
        "### Shapiro test"
      ],
      "metadata": {
        "id": "ocR-uJ7L1ZBZ"
      }
    },
    {
      "cell_type": "code",
      "source": [
        "stats.shapiro(data)"
      ],
      "metadata": {
        "colab": {
          "base_uri": "https://localhost:8080/"
        },
        "id": "NjkuhWFE1VV1",
        "outputId": "1b218fe6-3e99-4246-da28-87ba9d23a8aa"
      },
      "execution_count": 39,
      "outputs": [
        {
          "output_type": "execute_result",
          "data": {
            "text/plain": [
              "ShapiroResult(statistic=0.9823552966117859, pvalue=0.20195189118385315)"
            ]
          },
          "metadata": {},
          "execution_count": 39
        }
      ]
    },
    {
      "cell_type": "markdown",
      "source": [
        "## Non-normalized data"
      ],
      "metadata": {
        "id": "mD_N9fHm3pNq"
      }
    },
    {
      "cell_type": "code",
      "source": [
        "data2 = skewnorm.rvs(4,size=1000)\n",
        "\n",
        "plt.hist(data2,bins=20)\n",
        "plt.title('Data table')"
      ],
      "metadata": {
        "colab": {
          "base_uri": "https://localhost:8080/",
          "height": 469
        },
        "id": "avZ8OPT21x6c",
        "outputId": "3ee4d40b-70bd-4d63-8406-2190ce137b4d"
      },
      "execution_count": 43,
      "outputs": [
        {
          "output_type": "execute_result",
          "data": {
            "text/plain": [
              "Text(0.5, 1.0, 'Data table')"
            ]
          },
          "metadata": {},
          "execution_count": 43
        },
        {
          "output_type": "display_data",
          "data": {
            "text/plain": [
              "<Figure size 640x480 with 1 Axes>"
            ],
            "image/png": "[encoded data removed]"
          },
          "metadata": {}
        }
      ]
    },
    {
      "cell_type": "code",
      "source": [
        "fig, ax = plt.subplots()\n",
        "stats.probplot(data2,fit=True,plot=ax)\n",
        "plt.show()"
      ],
      "metadata": {
        "colab": {
          "base_uri": "https://localhost:8080/",
          "height": 472
        },
        "id": "2ne9AmHm5TFu",
        "outputId": "df458426-c93a-4780-f333-adef53d654fb"
      },
      "execution_count": 44,
      "outputs": [
        {
          "output_type": "display_data",
          "data": {
            "text/plain": [
              "<Figure size 640x480 with 1 Axes>"
            ],
            "image/png": "[encoded data removed]"
          },
          "metadata": {}
        }
      ]
    },
    {
      "cell_type": "code",
      "source": [
        "stats.shapiro(data2)"
      ],
      "metadata": {
        "colab": {
          "base_uri": "https://localhost:8080/"
        },
        "id": "fUj1f68_5m3i",
        "outputId": "1c5dcad8-1c1f-4603-a7cd-cc0865d93978"
      },
      "execution_count": 45,
      "outputs": [
        {
          "output_type": "execute_result",
          "data": {
            "text/plain": [
              "ShapiroResult(statistic=0.9524130821228027, pvalue=1.8219677041078775e-17)"
            ]
          },
          "metadata": {},
          "execution_count": 45
        }
      ]
    }
  ]
}